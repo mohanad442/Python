{
  "nbformat": 4,
  "nbformat_minor": 0,
  "metadata": {
    "colab": {
      "provenance": [],
      "collapsed_sections": [
        "q10gZicEOw_2",
        "4w84MPfSn2Le",
        "nuOMfxBkw_Yt",
        "Bw9V75H27UzP",
        "cl33lC6vAsqr",
        "BwuJeslyIFkc",
        "Hx_qrTFNIlGt",
        "pFf1ODO7vaW9",
        "QFp2zTqU1uFl",
        "c7WVNfpE34fl",
        "Nhb3OVr95MUW",
        "0_BdaQ4y_fdO",
        "T4WW38I7DnzG",
        "S5Wty71GGpZ_",
        "HhN6GMNEJUpK",
        "mQ9K-s_qLGXj",
        "_3cVWKmSgihp",
        "e26e0ee8",
        "a1354072",
        "1929d929",
        "4143bc96",
        "3f6168b1",
        "VOzUJ45sFRE4",
        "X88k4S-bFarN",
        "yMrIW_uaI6Mp"
      ]
    },
    "kernelspec": {
      "name": "python3",
      "display_name": "Python 3"
    },
    "language_info": {
      "name": "python"
    }
  },
  "cells": [
    {
      "cell_type": "markdown",
      "source": [
        "# Python Lab 1"
      ],
      "metadata": {
        "id": "q10gZicEOw_2"
      }
    },
    {
      "cell_type": "markdown",
      "source": [
        "## 1- Special Calculator"
      ],
      "metadata": {
        "id": "vmWpwJuyOr0G"
      }
    },
    {
      "cell_type": "markdown",
      "source": [
        "● Design a small application that keeps asking the user 3 choices:\n",
        "\n",
        "\t\t Enter 1 to sum integers from 1 to N\n",
        "\t\t Enter 2 to evaluate simple 2 numbers expression (e.g. 2 + 3)"
      ],
      "metadata": {
        "id": "4fiNYD4JO-17"
      }
    },
    {
      "cell_type": "code",
      "execution_count": null,
      "metadata": {
        "colab": {
          "base_uri": "https://localhost:8080/"
        },
        "id": "w3eK0vXVMDdX",
        "outputId": "2110bce7-bb2b-4871-8171-41a333b2f6f5"
      },
      "outputs": [
        {
          "name": "stdout",
          "output_type": "stream",
          "text": [
            " Enter 1 to sum integers from 1 to N \n",
            " Enter 2 to evaluate simple 2 numbers expression \n",
            " Enter 3 to exit \n",
            " Enter your choice: 2\n",
            "Enter the expression (e.g. 2 + 3)2 ** 3\n",
            "The power = 8\n",
            " Enter 1 to sum integers from 1 to N \n",
            " Enter 2 to evaluate simple 2 numbers expression \n",
            " Enter 3 to exit \n",
            " Enter your choice: 3\n"
          ]
        }
      ],
      "source": [
        "while True:\n",
        "  try:\n",
        "    Number = int(input(\" Enter 1 to sum integers from 1 to N \\n Enter 2 to evaluate simple 2 numbers expression \\n Enter 3 to exit \\n Enter your choice: \"))\n",
        "  \n",
        "    if Number == 1:\n",
        "      N = int(input(\"Enter the number\"))\n",
        "      sum = 0\n",
        "      for i in range(1 , N+1):\n",
        "        sum += i\n",
        "      print(f'The sum integers from 1 to N is {sum}')\n",
        "      \n",
        "\n",
        "    elif Number == 2:\n",
        "        first_num , operator, Second_num = input(\"Enter the expression (e.g. 2 + 3)\").split()\n",
        "\n",
        "        if operator == '+':\n",
        "          evaluation = int(first_num) + int(Second_num)\n",
        "          print(f\"The sum = {evaluation}\")\n",
        "\n",
        "        elif operator == '-':\n",
        "          evaluation = int(first_num) - int(Second_num)\n",
        "          print(f\"The subtraction = {evaluation}\")\n",
        "\n",
        "        elif operator == '*':\n",
        "          evaluation = int(first_num) * int(Second_num)\n",
        "          print(f\"The multiplication = {evaluation}\")\n",
        "\n",
        "        elif operator == '/':\n",
        "          evaluation = int(first_num) / int(Second_num)\n",
        "          print(f\"The division = {evaluation}\")\n",
        "\n",
        "        elif operator == '//':\n",
        "          evaluation = int(first_num) // int(Second_num)\n",
        "          print(f\"The floor division = {evaluation}\")\n",
        "\n",
        "        elif operator == '**':\n",
        "          evaluation = int(first_num) ** int(Second_num)\n",
        "          print(f\"The power = {evaluation}\")\n",
        "\n",
        "    elif Number == 3:\n",
        "       break\n",
        "\n",
        "  except:\n",
        "    print(\"This is invalid please try again\")"
      ]
    },
    {
      "cell_type": "markdown",
      "source": [
        "2- Read an integer N: print all numbers <= N that satisfy the following property"
      ],
      "metadata": {
        "id": "O8YHl5m9e5ll"
      }
    },
    {
      "cell_type": "code",
      "source": [
        "N = int(input(\"Enter the number: \"))\n",
        "for i in range (1, N + 1):\n",
        "  if (i % 8 == 0) | ((i % 4 == 0) & (i % 3 == 0)):\n",
        "    print(i, end = \" \")"
      ],
      "metadata": {
        "colab": {
          "base_uri": "https://localhost:8080/"
        },
        "id": "xydJmYDcakkx",
        "outputId": "e75c778a-fc0a-4eb5-b6d1-dc10b482d23e"
      },
      "execution_count": null,
      "outputs": [
        {
          "output_type": "stream",
          "name": "stdout",
          "text": [
            "Enter the number: 16\n",
            "8 12 16 "
          ]
        }
      ]
    },
    {
      "cell_type": "markdown",
      "source": [
        "3- Read an integer N: print the first N numbers that are multiple of 3 but not multiple of 4"
      ],
      "metadata": {
        "id": "nqEqHt7jgBbv"
      }
    },
    {
      "cell_type": "code",
      "source": [
        "N = int(input(\"Enter the number: \"))\n",
        "num = 1\n",
        "i = 1\n",
        "while num <= N:\n",
        "  if (i % 3 == 0) & (i % 4 != 0):\n",
        "      print(i, end = \" \")\n",
        "      num += 1\n",
        "  i += 1"
      ],
      "metadata": {
        "colab": {
          "base_uri": "https://localhost:8080/"
        },
        "id": "4Ib-e3rcf613",
        "outputId": "b9b9cb7c-8a0f-4c90-f176-e347165c4d4c"
      },
      "execution_count": null,
      "outputs": [
        {
          "output_type": "stream",
          "name": "stdout",
          "text": [
            "Enter the number: 11\n",
            "3 6 9 15 18 21 27 30 33 39 42 "
          ]
        }
      ]
    },
    {
      "cell_type": "markdown",
      "source": [
        "# Python Lab 2"
      ],
      "metadata": {
        "id": "4w84MPfSn2Le"
      }
    },
    {
      "cell_type": "markdown",
      "source": [
        "## 1- create two lists then Iterate both lists simultaneously"
      ],
      "metadata": {
        "id": "Ad28IzSYpLIQ"
      }
    },
    {
      "cell_type": "code",
      "source": [
        "lst1 = [1,2,3,4,5,6]\n",
        "lst2 = [7,8,9,10,11,12]\n",
        "lst_mod = zip(lst1, lst2)\n",
        "print(tuple(lst_mod))"
      ],
      "metadata": {
        "id": "Ji_3TP4-hKtc",
        "colab": {
          "base_uri": "https://localhost:8080/"
        },
        "outputId": "92680621-08d0-4869-c31b-3354e8578e88"
      },
      "execution_count": null,
      "outputs": [
        {
          "output_type": "stream",
          "name": "stdout",
          "text": [
            "((1, 7), (2, 8), (3, 9), (4, 10), (5, 11), (6, 12))\n"
          ]
        }
      ]
    },
    {
      "cell_type": "code",
      "source": [
        "for i, j in zip(lst1, lst2):\n",
        "  print(i, j)"
      ],
      "metadata": {
        "colab": {
          "base_uri": "https://localhost:8080/"
        },
        "id": "uUbHzhCHrYiR",
        "outputId": "2695379a-d292-492f-8e16-e88437891abc"
      },
      "execution_count": null,
      "outputs": [
        {
          "output_type": "stream",
          "name": "stdout",
          "text": [
            "1 7\n",
            "2 8\n",
            "3 9\n",
            "4 10\n",
            "5 11\n",
            "6 12\n"
          ]
        }
      ]
    },
    {
      "cell_type": "markdown",
      "source": [
        "## 2- Concatenate two lists index-wise  -> ['a','b'] , ['c','d'] \n",
        "\n",
        "output - > ['ac' , 'bd']"
      ],
      "metadata": {
        "id": "3DuxIPejqpBs"
      }
    },
    {
      "cell_type": "code",
      "source": [
        "lst1 = ['a', 'b']\n",
        "lst2 = ['c', 'd']\n",
        "lst = []\n",
        "for i,j in zip(lst1, lst2):\n",
        "  lst.append(i + j)\n",
        "\n",
        "print(lst)"
      ],
      "metadata": {
        "colab": {
          "base_uri": "https://localhost:8080/"
        },
        "id": "Pm4EfDbmpxq3",
        "outputId": "0f8260b4-8cd1-424a-80a8-2e379bbd91e7"
      },
      "execution_count": null,
      "outputs": [
        {
          "output_type": "stream",
          "name": "stdout",
          "text": [
            "['ac', 'bd']\n"
          ]
        }
      ]
    },
    {
      "cell_type": "markdown",
      "source": [
        "## 3- Remove empty strings from the list of strings using filter function\n"
      ],
      "metadata": {
        "id": "OYCB7liuscu3"
      }
    },
    {
      "cell_type": "code",
      "source": [
        "lst = ['machine', '', 'iti', 'mohanad', '', '']\n",
        "length = len(lst)\n",
        "i = 0\n",
        "while i < length:\n",
        "  if lst[i] == '' :\n",
        "    del lst[i]\n",
        "    length -= 1\n",
        "    i -= 1\n",
        "\n",
        "  i += 1\n",
        "\n",
        "print(lst)"
      ],
      "metadata": {
        "colab": {
          "base_uri": "https://localhost:8080/"
        },
        "id": "M4WekCGUsZqs",
        "outputId": "b1a00190-88f2-46ff-d052-8aff00810d5c"
      },
      "execution_count": null,
      "outputs": [
        {
          "output_type": "stream",
          "name": "stdout",
          "text": [
            "['machine', 'iti', 'mohanad']\n"
          ]
        }
      ]
    },
    {
      "cell_type": "markdown",
      "source": [
        "## 4- Compute average of row and column using function and select if user want row or column"
      ],
      "metadata": {
        "id": "nuOMfxBkw_Yt"
      }
    },
    {
      "cell_type": "code",
      "source": [
        "lst = [[1,2,3], [4,5,6], [7,8,9]]\n",
        "lst_avg = []\n",
        "\n",
        "for i in range(len(lst)):\n",
        "  avg = sum(lst[i]) / len(lst[i])\n",
        "  lst_avg.append(avg)\n",
        "\n",
        "lst_avg\n"
      ],
      "metadata": {
        "colab": {
          "base_uri": "https://localhost:8080/"
        },
        "id": "hYGiYqQuvkb8",
        "outputId": "4d3165f4-615d-4f6b-ebb5-3e6430a30848"
      },
      "execution_count": null,
      "outputs": [
        {
          "output_type": "execute_result",
          "data": {
            "text/plain": [
              "[2.0, 5.0, 8.0]"
            ]
          },
          "metadata": {},
          "execution_count": 1
        }
      ]
    },
    {
      "cell_type": "code",
      "source": [
        "row = len(lst[0])\n",
        "column = len(lst)\n",
        "lst_avg = []\n",
        "\n",
        "for j in range(column):\n",
        "  sum = 0\n",
        "  for i in range(row):\n",
        "    sum += lst[i][j]\n",
        "  \n",
        "  avg = sum / column\n",
        "  lst_avg.append(avg)"
      ],
      "metadata": {
        "id": "wL58FCzTy8If"
      },
      "execution_count": null,
      "outputs": []
    },
    {
      "cell_type": "code",
      "source": [
        "def average(lst):\n",
        "  number = int(input(\" Enter 1 to get the average of rows \\n Enter 2 to get the average of columns \\n Enter your choice: \"))\n",
        "  if number == 1:\n",
        "    lst_avg = []\n",
        "\n",
        "    for i in range(len(lst)):\n",
        "      avg = sum(lst[i]) / len(lst[i])\n",
        "      lst_avg.append(avg)\n",
        "  \n",
        "    return lst_avg\n",
        "\n",
        "  elif number == 2:\n",
        "    row = len(lst)\n",
        "    column = len(lst[0])\n",
        "    lst_avg = []\n",
        "\n",
        "    for j in range(column):\n",
        "      sum_ = 0\n",
        "      for i in range(row):\n",
        "        sum_ += lst[i][j]\n",
        "      \n",
        "      avg = sum_ / column\n",
        "      lst_avg.append(avg)\n",
        "    return lst_avg\n",
        "  \n",
        "  else:\n",
        "    print(\"Please enter a valid number\")\n"
      ],
      "metadata": {
        "id": "VR1YT9E-12v_"
      },
      "execution_count": null,
      "outputs": []
    },
    {
      "cell_type": "code",
      "source": [
        "lst = [[1,2,3], [4,5,6], [7,8,9], [10,11,12]]\n",
        "average(lst)"
      ],
      "metadata": {
        "colab": {
          "base_uri": "https://localhost:8080/"
        },
        "id": "-9Xiy14f1unz",
        "outputId": "b9b57157-cb93-4edf-f1f8-00f5788e8b78"
      },
      "execution_count": null,
      "outputs": [
        {
          "name": "stdout",
          "output_type": "stream",
          "text": [
            " Enter 1 to get the average of rows \n",
            " Enter 2 to get the average of columns \n",
            " Enter your choice: 1\n"
          ]
        },
        {
          "output_type": "execute_result",
          "data": {
            "text/plain": [
              "[2.0, 5.0, 8.0, 11.0]"
            ]
          },
          "metadata": {},
          "execution_count": 38
        }
      ]
    },
    {
      "cell_type": "code",
      "source": [
        "average(lst)"
      ],
      "metadata": {
        "colab": {
          "base_uri": "https://localhost:8080/"
        },
        "id": "hqtfKZs729Qb",
        "outputId": "1e69d7ba-3d70-4ce0-a01e-51b6ed34fec8"
      },
      "execution_count": null,
      "outputs": [
        {
          "name": "stdout",
          "output_type": "stream",
          "text": [
            " Enter 1 to get the average of rows \n",
            " Enter 2 to get the average of columns \n",
            " Enter your choice: 2\n"
          ]
        },
        {
          "output_type": "execute_result",
          "data": {
            "text/plain": [
              "[7.333333333333333, 8.666666666666666, 10.0]"
            ]
          },
          "metadata": {},
          "execution_count": 39
        }
      ]
    },
    {
      "cell_type": "code",
      "source": [
        "average(lst)"
      ],
      "metadata": {
        "colab": {
          "base_uri": "https://localhost:8080/"
        },
        "id": "qdefIWJ54QVF",
        "outputId": "95c83171-0016-4fc2-b508-3a9e4afe1bab"
      },
      "execution_count": null,
      "outputs": [
        {
          "output_type": "stream",
          "name": "stdout",
          "text": [
            " Enter 1 to get the average of rows \n",
            " Enter 2 to get the average of columns \n",
            " Enter your choice: 3\n",
            "Please enter a valid number\n"
          ]
        }
      ]
    },
    {
      "cell_type": "code",
      "source": [
        "(3+6+9) / 3"
      ],
      "metadata": {
        "colab": {
          "base_uri": "https://localhost:8080/"
        },
        "id": "7ztFoobC4SOn",
        "outputId": "7c9546f7-aab5-45bc-938f-507095411548"
      },
      "execution_count": null,
      "outputs": [
        {
          "output_type": "execute_result",
          "data": {
            "text/plain": [
              "6.0"
            ]
          },
          "metadata": {},
          "execution_count": 8
        }
      ]
    },
    {
      "cell_type": "markdown",
      "source": [
        "## 5- create function take list and create new list check if it sublist from it or not\n"
      ],
      "metadata": {
        "id": "Bw9V75H27UzP"
      }
    },
    {
      "cell_type": "code",
      "source": [
        "def check(lst, check_lst):\n",
        "  for i in range(len(check_lst)):\n",
        "    if check_lst[i] not in lst:\n",
        "      return False\n",
        "  return True"
      ],
      "metadata": {
        "id": "L9NPgSG29E0u"
      },
      "execution_count": null,
      "outputs": []
    },
    {
      "cell_type": "code",
      "source": [
        "lst = [1,2,3,4,5,6,7,8,9,10]\n",
        "check_lst = [3,5,8]\n",
        "check(lst, check_lst)\n",
        "\n"
      ],
      "metadata": {
        "colab": {
          "base_uri": "https://localhost:8080/"
        },
        "id": "FSE3F9TA6yL8",
        "outputId": "fb819358-cddb-4ff2-df8d-a549bd324d04"
      },
      "execution_count": null,
      "outputs": [
        {
          "output_type": "execute_result",
          "data": {
            "text/plain": [
              "True"
            ]
          },
          "metadata": {},
          "execution_count": 18
        }
      ]
    },
    {
      "cell_type": "markdown",
      "source": [
        "## 6- create function to check if string is Palindrom or not\n",
        "ex -> madam  left = right"
      ],
      "metadata": {
        "id": "cl33lC6vAsqr"
      }
    },
    {
      "cell_type": "code",
      "source": [
        "def Palindrom(string_):\n",
        "  for i in range(len(string_) // 2):\n",
        "    if string_[i] != string_[len(string_) -i -1]:\n",
        "      return False\n",
        "  return True"
      ],
      "metadata": {
        "id": "KGVee6d9AsFj"
      },
      "execution_count": null,
      "outputs": []
    },
    {
      "cell_type": "code",
      "source": [
        "s = \"mohanad\"\n",
        "Palindrom(s)"
      ],
      "metadata": {
        "colab": {
          "base_uri": "https://localhost:8080/"
        },
        "id": "RwT1ZU288jpC",
        "outputId": "9d4405e8-f58e-4d25-9b49-a1fbb623b9af"
      },
      "execution_count": null,
      "outputs": [
        {
          "output_type": "execute_result",
          "data": {
            "text/plain": [
              "False"
            ]
          },
          "metadata": {},
          "execution_count": 23
        }
      ]
    },
    {
      "cell_type": "code",
      "source": [
        "s = \"madam\"\n",
        "Palindrom(s)"
      ],
      "metadata": {
        "colab": {
          "base_uri": "https://localhost:8080/"
        },
        "id": "0cVk5qfOHkyT",
        "outputId": "285ce0ec-3703-404b-c081-44a85ab24220"
      },
      "execution_count": null,
      "outputs": [
        {
          "output_type": "execute_result",
          "data": {
            "text/plain": [
              "True"
            ]
          },
          "metadata": {},
          "execution_count": 24
        }
      ]
    },
    {
      "cell_type": "markdown",
      "source": [
        "## 7- write program convert string to integer then multiplay this number *3"
      ],
      "metadata": {
        "id": "BwuJeslyIFkc"
      }
    },
    {
      "cell_type": "code",
      "source": [
        "def convert(string_):\n",
        "  return int(string_) * 3"
      ],
      "metadata": {
        "id": "hiZfmcOOH3UR"
      },
      "execution_count": null,
      "outputs": []
    },
    {
      "cell_type": "markdown",
      "source": [
        "## 8- write program take a string then sepereate it with group \n",
        "\tinput ex-> aabcdde\n",
        "\toutput ->  aa, aab, aabc, aabcdd, aabcdde"
      ],
      "metadata": {
        "id": "Hx_qrTFNIlGt"
      }
    },
    {
      "cell_type": "code",
      "source": [
        "def sepereate_into_groups(string_):\n",
        "\n",
        "  for i in range(1,len(string_)+1):\n",
        "    s = string_[:i]\n",
        "    print(s)"
      ],
      "metadata": {
        "id": "95IfiyCXITbf"
      },
      "execution_count": null,
      "outputs": []
    },
    {
      "cell_type": "code",
      "source": [
        "sepereate_into_groups(\"aabcdde\")"
      ],
      "metadata": {
        "colab": {
          "base_uri": "https://localhost:8080/"
        },
        "id": "CDipMTYQJgia",
        "outputId": "deda5f0f-8c2f-4b01-f7ef-d5ca3cfe2b37"
      },
      "execution_count": null,
      "outputs": [
        {
          "output_type": "stream",
          "name": "stdout",
          "text": [
            "a\n",
            "aa\n",
            "aab\n",
            "aabc\n",
            "aabcd\n",
            "aabcdd\n",
            "aabcdde\n"
          ]
        }
      ]
    },
    {
      "cell_type": "markdown",
      "source": [
        "# Python Lab 3"
      ],
      "metadata": {
        "id": "pFf1ODO7vaW9"
      }
    },
    {
      "cell_type": "markdown",
      "source": [
        "## 1- Using a list comprehension, create two new list called \"newlist_1\",\"newlist_2\" out of the list \"numbers\",  which contains only the positive numbers and negative number from the list, as integers."
      ],
      "metadata": {
        "id": "QFp2zTqU1uFl"
      }
    },
    {
      "cell_type": "code",
      "source": [
        "lst = [-1, 2, 0, 5, -3, -2]\n",
        "newlist_1 = [i for i in lst if i >= 0]\n",
        "newlist_2 = [i for i in lst if i < 0]\n",
        "print(newlist_1)\n",
        "print(newlist_2)"
      ],
      "metadata": {
        "id": "KFv2-C3p1xA-",
        "colab": {
          "base_uri": "https://localhost:8080/"
        },
        "outputId": "4e45c429-94c9-4756-aec4-64230ff96da7"
      },
      "execution_count": null,
      "outputs": [
        {
          "output_type": "stream",
          "name": "stdout",
          "text": [
            "[2, 0, 5]\n",
            "[-1, -3, -2]\n"
          ]
        }
      ]
    },
    {
      "cell_type": "markdown",
      "source": [
        "## 2- Write program to generate and print a dictionary that contains a number (between 1 and n) in the form (x, x*x). Go to the editor\n",
        "\tSample Dictionary ( n = 5) :\n",
        "\tExpected Output : {1: 1, 2: 4, 3: 9, 4: 16, 5: 25}"
      ],
      "metadata": {
        "id": "c7WVNfpE34fl"
      }
    },
    {
      "cell_type": "code",
      "source": [
        "def dict_(n):\n",
        "  dict_ = {}\n",
        "  for i in range(1, n+1):\n",
        "    dict_[i] = i**2\n",
        "  \n",
        "  return dict_"
      ],
      "metadata": {
        "id": "Muypb81x3zoo"
      },
      "execution_count": null,
      "outputs": []
    },
    {
      "cell_type": "code",
      "source": [
        "dict_(5)"
      ],
      "metadata": {
        "colab": {
          "base_uri": "https://localhost:8080/"
        },
        "id": "sdiXtcZW5DMZ",
        "outputId": "d848ec32-0d93-4da0-cfc9-e175d104dd06"
      },
      "execution_count": null,
      "outputs": [
        {
          "output_type": "execute_result",
          "data": {
            "text/plain": [
              "{1: 1, 2: 4, 3: 9, 4: 16, 5: 25}"
            ]
          },
          "metadata": {},
          "execution_count": 15
        }
      ]
    },
    {
      "cell_type": "markdown",
      "source": [
        "## 3- Write a program to merge two Python dictionaries"
      ],
      "metadata": {
        "id": "Nhb3OVr95MUW"
      }
    },
    {
      "cell_type": "code",
      "source": [
        "dic1 = {1: 1, 2: 4, 3: 9, 4: 16, 5: 25}\n",
        "dic2 = {'a' : 15, 'b' : 72}"
      ],
      "metadata": {
        "id": "2jvMgBUS5E4U"
      },
      "execution_count": null,
      "outputs": []
    },
    {
      "cell_type": "code",
      "source": [
        "for key, value in dic1.items():\n",
        "  dic2[key] = value"
      ],
      "metadata": {
        "id": "cytBSz3x6UYC"
      },
      "execution_count": null,
      "outputs": []
    },
    {
      "cell_type": "code",
      "source": [
        "dic2"
      ],
      "metadata": {
        "colab": {
          "base_uri": "https://localhost:8080/"
        },
        "id": "FGk_pznz8IE4",
        "outputId": "562e5756-9957-4829-8cd4-7573789cdcf8"
      },
      "execution_count": null,
      "outputs": [
        {
          "output_type": "execute_result",
          "data": {
            "text/plain": [
              "{'a': 15, 'b': 72, 1: 1, 2: 4, 3: 9, 4: 16, 5: 25}"
            ]
          },
          "metadata": {},
          "execution_count": 27
        }
      ]
    },
    {
      "cell_type": "code",
      "source": [
        "{**dic1, **dic2}"
      ],
      "metadata": {
        "colab": {
          "base_uri": "https://localhost:8080/"
        },
        "id": "jVPuJNcR9wNo",
        "outputId": "6514b5ff-1fac-4e01-d043-d61419cb1c64"
      },
      "execution_count": null,
      "outputs": [
        {
          "output_type": "execute_result",
          "data": {
            "text/plain": [
              "{1: 1, 2: 4, 3: 9, 4: 16, 5: 25, 'a': 15, 'b': 72}"
            ]
          },
          "metadata": {},
          "execution_count": 41
        }
      ]
    },
    {
      "cell_type": "markdown",
      "source": [
        "## 4- Write a function to generate all pairs from two lists"
      ],
      "metadata": {
        "id": "0_BdaQ4y_fdO"
      }
    },
    {
      "cell_type": "code",
      "source": [
        "def generate_pairs(lst1, lst2):\n",
        "  lst3 = []\n",
        "  for i in lst1:\n",
        "    lst3.append([tuple([i, j]) for j in lst2])\n",
        "  return lst3"
      ],
      "metadata": {
        "id": "fEPG9Dkz--Mp"
      },
      "execution_count": null,
      "outputs": []
    },
    {
      "cell_type": "code",
      "source": [],
      "metadata": {
        "id": "fDVhL-aGF4Ym"
      },
      "execution_count": null,
      "outputs": []
    },
    {
      "cell_type": "code",
      "source": [
        "lst1 = [1,2,3,4]\n",
        "lst2 = ['a', 'b', 'c', 'd']\n",
        "generate_pairs(lst1, lst2)"
      ],
      "metadata": {
        "colab": {
          "base_uri": "https://localhost:8080/"
        },
        "id": "9vsftxfSCpnG",
        "outputId": "2c38f7bd-6611-48a3-ffa3-86957175b3ff"
      },
      "execution_count": null,
      "outputs": [
        {
          "output_type": "execute_result",
          "data": {
            "text/plain": [
              "[[(1, 'a'), (1, 'b'), (1, 'c'), (1, 'd')],\n",
              " [(2, 'a'), (2, 'b'), (2, 'c'), (2, 'd')],\n",
              " [(3, 'a'), (3, 'b'), (3, 'c'), (3, 'd')],\n",
              " [(4, 'a'), (4, 'b'), (4, 'c'), (4, 'd')]]"
            ]
          },
          "metadata": {},
          "execution_count": 46
        }
      ]
    },
    {
      "cell_type": "markdown",
      "source": [
        "## 5- rewrite this function using list comp."
      ],
      "metadata": {
        "id": "T4WW38I7DnzG"
      }
    },
    {
      "cell_type": "code",
      "source": [
        "def generate_pairs2(lst1, lst2):\n",
        "  lst3 = [[tuple([i, j]) for j in lst2] for i in lst1]\n",
        "  return lst3"
      ],
      "metadata": {
        "id": "ot-kEoGcCqs0"
      },
      "execution_count": null,
      "outputs": []
    },
    {
      "cell_type": "code",
      "source": [
        "generate_pairs2(lst1, lst2)"
      ],
      "metadata": {
        "colab": {
          "base_uri": "https://localhost:8080/"
        },
        "id": "jSSoSZC0Ed0q",
        "outputId": "92933f38-edeb-40b3-f621-a9de05212b44"
      },
      "execution_count": null,
      "outputs": [
        {
          "output_type": "execute_result",
          "data": {
            "text/plain": [
              "[[(1, 'a'), (1, 'b'), (1, 'c'), (1, 'd')],\n",
              " [(2, 'a'), (2, 'b'), (2, 'c'), (2, 'd')],\n",
              " [(3, 'a'), (3, 'b'), (3, 'c'), (3, 'd')],\n",
              " [(4, 'a'), (4, 'b'), (4, 'c'), (4, 'd')]]"
            ]
          },
          "metadata": {},
          "execution_count": 50
        }
      ]
    },
    {
      "cell_type": "markdown",
      "source": [
        "## 6- convert 2D list to 1D -> flatten list and do it using list comp."
      ],
      "metadata": {
        "id": "S5Wty71GGpZ_"
      }
    },
    {
      "cell_type": "code",
      "source": [
        "def flatten(lst):\n",
        "  from functools import reduce\n",
        "  reduced = reduce(lambda x, y : x + y , lst)\n",
        "  return reduced"
      ],
      "metadata": {
        "id": "AQ-Z5oeaEhuQ"
      },
      "execution_count": null,
      "outputs": []
    },
    {
      "cell_type": "code",
      "source": [
        "flatten(lst3)"
      ],
      "metadata": {
        "colab": {
          "base_uri": "https://localhost:8080/"
        },
        "id": "YGlk_IsjJBtL",
        "outputId": "e7d5a8c3-16dd-4dbe-bafc-938cd0d3f66c"
      },
      "execution_count": null,
      "outputs": [
        {
          "output_type": "execute_result",
          "data": {
            "text/plain": [
              "[(1, 'a'),\n",
              " (1, 'b'),\n",
              " (1, 'c'),\n",
              " (1, 'd'),\n",
              " (2, 'a'),\n",
              " (2, 'b'),\n",
              " (2, 'c'),\n",
              " (2, 'd'),\n",
              " (3, 'a'),\n",
              " (3, 'b'),\n",
              " (3, 'c'),\n",
              " (3, 'd'),\n",
              " (4, 'a'),\n",
              " (4, 'b'),\n",
              " (4, 'c'),\n",
              " (4, 'd')]"
            ]
          },
          "metadata": {},
          "execution_count": 62
        }
      ]
    },
    {
      "cell_type": "markdown",
      "source": [
        "## 7- write function sort number don't use any built in function"
      ],
      "metadata": {
        "id": "HhN6GMNEJUpK"
      }
    },
    {
      "cell_type": "code",
      "source": [
        "def selection_sort(lst):\n",
        "  for i in range(len(lst) - 1):\n",
        "    for j in range(i + 1, len(lst)):\n",
        "      if lst[j] < lst[i]:\n",
        "        lst[j] , lst[i] = lst[i], lst[j]\n",
        "  return lst"
      ],
      "metadata": {
        "id": "yWrDmi_cKFyl"
      },
      "execution_count": null,
      "outputs": []
    },
    {
      "cell_type": "code",
      "source": [
        "def quick_sort(lst):\n",
        "  if len(lst) <= 1:\n",
        "    return lst\n",
        "  else:\n",
        "    pivot = lst.pop()\n",
        "\n",
        "  item_greater = []\n",
        "  item_lower = []\n",
        "  item_equal = [pivot]\n",
        "  for item in lst:\n",
        "    if item > pivot:\n",
        "      item_greater.append(item)\n",
        "    elif item < pivot:\n",
        "      item_lower.append(item)\n",
        "    else:\n",
        "      item_equal.append(item)\n",
        "  return quick_sort(item_lower) + item_equal + quick_sort(item_greater)"
      ],
      "metadata": {
        "id": "zTGmWdAJJPoQ"
      },
      "execution_count": null,
      "outputs": []
    },
    {
      "cell_type": "code",
      "source": [
        "lst = [5,3,9,0,1,4,2,8]\n",
        "print(selection_sort(lst))\n",
        "print(quick_sort(lst))"
      ],
      "metadata": {
        "colab": {
          "base_uri": "https://localhost:8080/"
        },
        "id": "zu7V5l4GKw1s",
        "outputId": "fd3ba4b1-1eb1-4aaa-993f-2bfea97b613c"
      },
      "execution_count": null,
      "outputs": [
        {
          "output_type": "stream",
          "name": "stdout",
          "text": [
            "[0, 1, 2, 3, 4, 5, 8, 9]\n",
            "[0, 1, 2, 3, 4, 5, 8, 9]\n"
          ]
        }
      ]
    },
    {
      "cell_type": "markdown",
      "source": [
        "## 8- write function to get max pair in list\n",
        "\tex-> lst =[2,15,10,3,50]\n",
        "\tout-> 15+50 = 65\n",
        "  then get min pair  "
      ],
      "metadata": {
        "id": "mQ9K-s_qLGXj"
      }
    },
    {
      "cell_type": "code",
      "source": [
        "def pairs(lst):\n",
        "  lst.sort()\n",
        "  max_elements = lst[-2:]\n",
        "  min_elements = lst[:2]\n",
        "  print(f\"sum of max pairs is {sum(max_elements)}, sum of min pairs is {sum(min_elements)}\")\n",
        "  return max_elements, min_elements"
      ],
      "metadata": {
        "id": "_ozY1i3dK9Vf"
      },
      "execution_count": null,
      "outputs": []
    },
    {
      "cell_type": "code",
      "source": [
        "lst = [5,3,9,0,1,4,2,8]"
      ],
      "metadata": {
        "id": "oe1XlmezMSea"
      },
      "execution_count": null,
      "outputs": []
    },
    {
      "cell_type": "code",
      "source": [
        "pairs(lst)"
      ],
      "metadata": {
        "colab": {
          "base_uri": "https://localhost:8080/"
        },
        "id": "DWzl8HTAMKKq",
        "outputId": "130eea9a-7e21-4fbf-a6ee-cc4dc8ae63ec"
      },
      "execution_count": null,
      "outputs": [
        {
          "output_type": "stream",
          "name": "stdout",
          "text": [
            "sum of max pairs is 17, sum of min pairs is 1\n"
          ]
        },
        {
          "output_type": "execute_result",
          "data": {
            "text/plain": [
              "([8, 9], [0, 1])"
            ]
          },
          "metadata": {},
          "execution_count": 91
        }
      ]
    },
    {
      "cell_type": "markdown",
      "source": [
        "## 9- write function to replace min and max inplace \n",
        "\tex -> lst = [4,1,3,10,8,10,10]\n",
        "\tout-> [4,10,3,1,8,1,1]"
      ],
      "metadata": {
        "id": "7pmvBTzLN8O0"
      }
    },
    {
      "cell_type": "code",
      "source": [
        "def replace_(lst):\n",
        "  min_ = min(lst)\n",
        "  max_ = max(lst)\n",
        "  \n",
        "  for i in range(len(lst)):\n",
        "    if lst[i] == min_:\n",
        "      lst[i] = max_\n",
        "    elif lst[i] == max_:\n",
        "      lst[i] = min_\n",
        "  return lst"
      ],
      "metadata": {
        "id": "irW2QwEQMK6G"
      },
      "execution_count": null,
      "outputs": []
    },
    {
      "cell_type": "code",
      "source": [
        "lst = [4,1,3,10,8,10,10]\n",
        "replace_(lst)"
      ],
      "metadata": {
        "colab": {
          "base_uri": "https://localhost:8080/"
        },
        "id": "vRKqQy0jOzbr",
        "outputId": "4b081dd9-e45a-4305-ad69-4c6a4d54c2af"
      },
      "execution_count": null,
      "outputs": [
        {
          "output_type": "execute_result",
          "data": {
            "text/plain": [
              "[4, 10, 3, 1, 8, 1, 1]"
            ]
          },
          "metadata": {},
          "execution_count": 7
        }
      ]
    },
    {
      "cell_type": "markdown",
      "source": [
        "# Python Lab 4"
      ],
      "metadata": {
        "id": "_3cVWKmSgihp"
      }
    },
    {
      "cell_type": "markdown",
      "source": [
        "## 1- Write a python program to find the longest word in file\n",
        "2- Write a Python program to count the frequency of words in a file"
      ],
      "metadata": {
        "id": "UWlUmTfhgxHK"
      }
    },
    {
      "cell_type": "code",
      "source": [
        "def words(filename):\n",
        "  file = open(filename, \"r\")\n",
        "  lines = file.readlines()\n",
        "  word_length = 0\n",
        "  word_freq = {}\n",
        "  for line in lines:\n",
        "    for word in line.split():\n",
        "      word_freq[word] = word_freq.get(word, 0) + 1\n",
        "      if len(word) > word_length:\n",
        "        word_length = len(word)\n",
        "        longest_word = word\n",
        "  most_freq = max(word_freq, key = lambda word : word_freq[word])\n",
        "  return longest_word, most_freq\n"
      ],
      "metadata": {
        "id": "2HYpf5k6iY4v"
      },
      "execution_count": null,
      "outputs": []
    },
    {
      "cell_type": "code",
      "source": [
        "filename = \"/content/temp.txt\"\n",
        "longest_word, most_freq = words(filename)\n",
        "print(f\"longest word is {longest_word}\")\n",
        "print(f\"Most Frequency word is {most_freq}\")"
      ],
      "metadata": {
        "colab": {
          "base_uri": "https://localhost:8080/"
        },
        "id": "a_dFxLFIlrvO",
        "outputId": "bd64b261-10d2-47ae-d47d-bc3e86f3dc36"
      },
      "execution_count": null,
      "outputs": [
        {
          "output_type": "stream",
          "name": "stdout",
          "text": [
            "longest word is data_preprocessing\n",
            "Most Frequency word is processing\n"
          ]
        }
      ]
    },
    {
      "cell_type": "markdown",
      "source": [
        "## Object Oriented Programming"
      ],
      "metadata": {
        "id": "tdxJMox83XnN"
      }
    },
    {
      "cell_type": "markdown",
      "metadata": {
        "id": "e26e0ee8"
      },
      "source": [
        "### Define a class … Create an Object"
      ]
    },
    {
      "cell_type": "code",
      "execution_count": null,
      "metadata": {
        "id": "af2b1826",
        "outputId": "6d29310f-5e9e-4267-8d3f-8c87201d04af",
        "colab": {
          "base_uri": "https://localhost:8080/"
        }
      },
      "outputs": [
        {
          "output_type": "stream",
          "name": "stdout",
          "text": [
            "Mohamed\n",
            "1000\n",
            "Egypt\n"
          ]
        }
      ],
      "source": [
        "class Employee:\n",
        "    name = None\n",
        "    salary = None    \n",
        "    address = None\n",
        "\n",
        "Emp = Employee()\n",
        "Emp.name = \"Mohamed\"\n",
        "Emp.salary = 1000\n",
        "Emp.address = \"Egypt\"\n",
        "\n",
        "print(Emp.name)\n",
        "print(Emp.salary)\n",
        "print(Emp.address)\n"
      ]
    },
    {
      "cell_type": "markdown",
      "metadata": {
        "id": "a1354072"
      },
      "source": [
        "### Fuction with Objects"
      ]
    },
    {
      "cell_type": "code",
      "execution_count": null,
      "metadata": {
        "id": "b77d16ac"
      },
      "outputs": [],
      "source": [
        "class Employee:\n",
        "    name = None\n",
        "    salary = None    \n",
        "    address = None\n",
        "    \n",
        "def print_emp(object):\n",
        "    print('Employee name:',object.name)\n",
        "    print('Employee Salary:',object.salary)    \n",
        "    print('Employee address:',object.address)    \n"
      ]
    },
    {
      "cell_type": "code",
      "execution_count": null,
      "metadata": {
        "id": "4b614665",
        "outputId": "73dc278d-9df2-4ff0-d41e-33c4def3578c",
        "colab": {
          "base_uri": "https://localhost:8080/"
        }
      },
      "outputs": [
        {
          "output_type": "stream",
          "name": "stdout",
          "text": [
            "Employee name: Mohanad\n",
            "Employee Salary: 10000\n",
            "Employee address: Elobour-Egypt\n"
          ]
        }
      ],
      "source": [
        "emp = Employee()\n",
        "emp.name = 'Mohanad'\n",
        "emp.salary = 10000\n",
        "emp.address = 'Elobour-Egypt'\n",
        "print_emp(emp)"
      ]
    },
    {
      "cell_type": "code",
      "source": [],
      "metadata": {
        "id": "CPYJY9iR6f0W"
      },
      "execution_count": null,
      "outputs": []
    },
    {
      "cell_type": "markdown",
      "metadata": {
        "id": "1929d929"
      },
      "source": [
        "### Read and Write"
      ]
    },
    {
      "cell_type": "code",
      "execution_count": null,
      "metadata": {
        "id": "9dc0d6c7"
      },
      "outputs": [],
      "source": [
        "class Employee:\n",
        "    name = None\n",
        "    salary = None    \n",
        "    address = None\n",
        "\n",
        "def print_emp(object):\n",
        "    print('Employee name:',object.name)\n",
        "    print('Employee Salary:',object.salary)    \n",
        "    print('Employee address:',object.address)\n",
        "\n",
        "def read_emp():\n",
        "    obj = Employee()\n",
        "    obj.name = input('Enter Employee Name: ')\n",
        "    obj.salary = float(input('Enter Employee Salary: '))\n",
        "    obj.address = input('Enter Employee Address: ')\n",
        "\n",
        "    return obj"
      ]
    },
    {
      "cell_type": "code",
      "source": [
        "emp = read_emp()"
      ],
      "metadata": {
        "colab": {
          "base_uri": "https://localhost:8080/"
        },
        "id": "P8jgqfSj7YmE",
        "outputId": "78c83d07-4135-4ca5-861c-101c67a3b24b"
      },
      "execution_count": null,
      "outputs": [
        {
          "name": "stdout",
          "output_type": "stream",
          "text": [
            "Enter Employee Name: Mohanad\n",
            "Enter Employee Salary: 10000\n",
            "Enter Employee Address: Elobour\n"
          ]
        }
      ]
    },
    {
      "cell_type": "code",
      "source": [
        "print_emp(emp)"
      ],
      "metadata": {
        "colab": {
          "base_uri": "https://localhost:8080/"
        },
        "id": "LFp47iM27jIB",
        "outputId": "85a62c8e-8e75-4a68-8b6e-e26b9eb4c1ed"
      },
      "execution_count": null,
      "outputs": [
        {
          "output_type": "stream",
          "name": "stdout",
          "text": [
            "Employee name: Mohanad\n",
            "Employee Salary: 10000.0\n",
            "Employee address: Elobour\n"
          ]
        }
      ]
    },
    {
      "cell_type": "code",
      "source": [],
      "metadata": {
        "id": "3wWHPYTy7neb"
      },
      "execution_count": null,
      "outputs": []
    },
    {
      "cell_type": "markdown",
      "metadata": {
        "id": "4143bc96"
      },
      "source": [
        "### Encapsulation\n"
      ]
    },
    {
      "cell_type": "code",
      "execution_count": null,
      "metadata": {
        "id": "c27ed83f",
        "outputId": "a33d25cd-dc88-4ba3-9d79-c6f1a5621d13",
        "colab": {
          "base_uri": "https://localhost:8080/"
        }
      },
      "outputs": [
        {
          "output_type": "stream",
          "name": "stdout",
          "text": [
            "Name is :  Mohanad \n",
            "Salary:  10000\n",
            "Mohanad  is working on  Computer Vision\n"
          ]
        }
      ],
      "source": [
        "class Employee:\n",
        "    def __init__(self,name,salary,project):\n",
        "        #data member\n",
        "        self.name = name\n",
        "        self.salary = salary\n",
        "        self.project = project\n",
        "    \n",
        "    def show(self):\n",
        "        print(\"Name is : \", self.name, '\\nSalary: ',self.salary )\n",
        "    \n",
        "    def work(self):\n",
        "        print(self.name, \" is working on \",self.project)\n",
        "\n",
        "emp = Employee(\"Mohanad\" , 10000 , \"Computer Vision\")\n",
        "emp.show()\n",
        "emp.work()"
      ]
    },
    {
      "cell_type": "markdown",
      "metadata": {
        "id": "3f6168b1"
      },
      "source": [
        "### Constructor"
      ]
    },
    {
      "cell_type": "code",
      "execution_count": null,
      "metadata": {
        "id": "c91206a0",
        "outputId": "101ffb6f-485f-4313-da2d-8c607b6cf071",
        "colab": {
          "base_uri": "https://localhost:8080/"
        }
      },
      "outputs": [
        {
          "output_type": "stream",
          "name": "stdout",
          "text": [
            "Employee name: Mohanad\n",
            "Employee Salary: 1000\n",
            "Employee address: Elobour\n"
          ]
        }
      ],
      "source": [
        "class Employee: \n",
        "  # Dunder init : double underscore\n",
        "    def __init__(self, name, salary, address):\n",
        "        self.Name = name\n",
        "        self.salary = salary\n",
        "        self.address = address\n",
        "    \n",
        "    def print(self):\n",
        "        print('Employee name:',self.Name)\n",
        "        print('Employee Salary:',self.salary)    \n",
        "        print('Employee address:',self.address)\n",
        "    \n",
        "emp = Employee('Mohanad',1000,\"Elobour\")\n",
        "emp.print()"
      ]
    },
    {
      "cell_type": "markdown",
      "metadata": {
        "id": "dfbb3973"
      },
      "source": [
        "### Dunder str\n",
        "must return string"
      ]
    },
    {
      "cell_type": "code",
      "execution_count": null,
      "metadata": {
        "id": "fcc80f58",
        "outputId": "4fe9d458-8867-408f-9bf4-a902f58f17b9",
        "colab": {
          "base_uri": "https://localhost:8080/"
        }
      },
      "outputs": [
        {
          "output_type": "stream",
          "name": "stdout",
          "text": [
            "Employee Mohanad is 25 years old\n",
            "Employee Mohanad is 25 years old\n"
          ]
        }
      ],
      "source": [
        "class Employee:\n",
        "    def __init__(self, name, age):\n",
        "        self.name = name\n",
        "        self.age = age\n",
        "    \n",
        "    def __str__(self):\n",
        "        return 'Employee '+self.name+ ' is '+ str(self.age)+' years old'\n",
        "\n",
        "emp = Employee('Mohanad',25)\n",
        "print(emp)\n",
        "# ______________________\n",
        "s = str(emp)\n",
        "print(s)"
      ]
    },
    {
      "cell_type": "code",
      "execution_count": null,
      "metadata": {
        "id": "f491b08f",
        "outputId": "ae035abd-2ace-484f-d1cd-41e80b0088ee",
        "colab": {
          "base_uri": "https://localhost:8080/"
        }
      },
      "outputs": [
        {
          "output_type": "stream",
          "name": "stdout",
          "text": [
            "Employee Mohanad is 25 years old\n"
          ]
        }
      ],
      "source": [
        "print(emp.__str__())"
      ]
    },
    {
      "cell_type": "markdown",
      "metadata": {
        "id": "bc5d34eb"
      },
      "source": [
        "### Dunder repr\n",
        "    If you try now to print the most, what happens is Python will search. Do you have STR function?\n",
        "    No, if not use the REPR function.\n",
        "    Do you have REPR function?\n",
        "    Yes.\n",
        "    Then use it."
      ]
    },
    {
      "cell_type": "code",
      "execution_count": null,
      "metadata": {
        "id": "b70307a4",
        "outputId": "72e1ed59-90eb-4096-a7e2-4f1cac7ff6b4",
        "colab": {
          "base_uri": "https://localhost:8080/"
        }
      },
      "outputs": [
        {
          "output_type": "stream",
          "name": "stdout",
          "text": [
            "Employee Mohamed is 30 years old\n"
          ]
        }
      ],
      "source": [
        "class Employee:\n",
        "    def __init__(self, name, age):\n",
        "        self.name = name\n",
        "        self.age = age\n",
        "    \n",
        "    def __repr__(self):\n",
        "        return 'Employee '+self.name+ ' is '+ str(self.age)+' years old'\n",
        "\n",
        "emp = Employee('Mohamed',30)\n",
        "print(emp)"
      ]
    },
    {
      "cell_type": "code",
      "execution_count": null,
      "metadata": {
        "id": "e878b9ce",
        "outputId": "c3b3ad54-80d9-4238-85c5-8091cfeecdf3",
        "colab": {
          "base_uri": "https://localhost:8080/"
        }
      },
      "outputs": [
        {
          "output_type": "stream",
          "name": "stdout",
          "text": [
            "Employee Mohamed is 30 years old\n",
            "Employee Mohamed is 30 years old\n"
          ]
        }
      ],
      "source": [
        "print(str(emp))\n",
        "print(repr(emp))"
      ]
    },
    {
      "cell_type": "markdown",
      "metadata": {
        "id": "e2a7e7e5"
      },
      "source": [
        "### I have str and use repr what happen"
      ]
    },
    {
      "cell_type": "code",
      "execution_count": null,
      "metadata": {
        "scrolled": true,
        "id": "b30c2a05",
        "outputId": "10895e0c-bbf6-4f80-9dda-43e9d4305e0a",
        "colab": {
          "base_uri": "https://localhost:8080/"
        }
      },
      "outputs": [
        {
          "output_type": "stream",
          "name": "stdout",
          "text": [
            "<__main__.Employee object at 0x7f643e4b7730>\n"
          ]
        }
      ],
      "source": [
        "class Employee:\n",
        "    def __init__(self, name, age):\n",
        "        self.name = name\n",
        "        self.age = age\n",
        "    \n",
        "    def __str__(self):\n",
        "        return 'Employee '+self.name+ ' is '+ str(self.age)+' years old'\n",
        "\n",
        "emp = Employee('Mohamed',30)\n",
        "print(repr(emp)) # return memory address"
      ]
    },
    {
      "cell_type": "markdown",
      "metadata": {
        "id": "b21c1643"
      },
      "source": [
        "### I have two repr and str"
      ]
    },
    {
      "cell_type": "code",
      "execution_count": null,
      "metadata": {
        "id": "24a1b78b",
        "outputId": "0d50744e-5eb5-4b09-c1ed-2dcbbf9deda1",
        "colab": {
          "base_uri": "https://localhost:8080/"
        }
      },
      "outputs": [
        {
          "output_type": "stream",
          "name": "stdout",
          "text": [
            "Repr func: Employee Mohanad is 25 years old\n",
            "Str func : Employee Mohanad is 25 years old\n"
          ]
        }
      ],
      "source": [
        "class Employee:\n",
        "    def __init__(self, name, age):\n",
        "        self.name = name\n",
        "        self.age = age\n",
        "    \n",
        "    def __str__(self):\n",
        "        return 'Str func : Employee '+self.name+ ' is '+ str(self.age)+' years old'\n",
        "    \n",
        "    def __repr__(self):\n",
        "        return 'Repr func: Employee '+self.name+ ' is '+ str(self.age)+' years old'\n",
        "\n",
        "emp = Employee('Mohanad',25)\n",
        "print(repr(emp))\n",
        "print(str(emp))"
      ]
    },
    {
      "cell_type": "code",
      "source": [
        "print(emp)"
      ],
      "metadata": {
        "colab": {
          "base_uri": "https://localhost:8080/"
        },
        "id": "WlPWl-ZaBXhl",
        "outputId": "d2a4ebf6-3ed4-4b9f-83db-c391ee5ae601"
      },
      "execution_count": null,
      "outputs": [
        {
          "output_type": "stream",
          "name": "stdout",
          "text": [
            "Str func : Employee Mohanad is 25 years old\n"
          ]
        }
      ]
    },
    {
      "cell_type": "markdown",
      "source": [
        "*   Why both str and repr?\n",
        "*   str ->  The STR function is mainly intended for users and customers.\n",
        "*   repr -> intended mainly for developers and specifically for debugging\n"
      ],
      "metadata": {
        "id": "ittZzfmRCDE8"
      }
    },
    {
      "cell_type": "markdown",
      "metadata": {
        "id": "d090e748"
      },
      "source": [
        "### OOP Concepts"
      ]
    },
    {
      "cell_type": "markdown",
      "metadata": {
        "id": "e19af9f3"
      },
      "source": [
        "## Inheritance, Ploymorphism, Encapsolation, Abstraction"
      ]
    },
    {
      "cell_type": "markdown",
      "metadata": {
        "id": "553326d4"
      },
      "source": [
        "### Single Inheretance"
      ]
    },
    {
      "cell_type": "code",
      "execution_count": null,
      "metadata": {
        "id": "bd1aea77"
      },
      "outputs": [],
      "source": [
        "class Person:\n",
        "    def __init__(self):\n",
        "        self.name = 'Mohamed'\n",
        "        self.email = 'm@gmail.com'\n",
        "    \n",
        "    def is_valid_email(self):\n",
        "        return self.email.endswith('@gmail.com')\n",
        "    \n",
        "    def print_info(self):\n",
        "        print(self.name, self.email)\n",
        "        "
      ]
    },
    {
      "cell_type": "markdown",
      "metadata": {
        "id": "7b8fbb0b"
      },
      "source": [
        "● When Class A inherits Class B, it inherits its created attributes, properties\n",
        "& methods: We call A (Parent/Base) and B (Child/Derived)\n",
        "\n",
        "○ Here Person is Base and Student is Derived"
      ]
    },
    {
      "cell_type": "code",
      "execution_count": null,
      "metadata": {
        "id": "525b0d3b"
      },
      "outputs": [],
      "source": [
        "class Person:\n",
        "    def __init__(self):\n",
        "        self.name = 'Mohamed'\n",
        "        self.email = 'm@gmail.com'\n",
        "\n",
        "    def is_valid_email(self):\n",
        "        return self.email.endswith('@gmail.com')\n",
        "\n",
        "    def print_info(self):\n",
        "        print(self.name, self.email)"
      ]
    },
    {
      "cell_type": "code",
      "execution_count": null,
      "metadata": {
        "id": "f74c7d38"
      },
      "outputs": [],
      "source": [
        "class Student(Person): #inheretance from Person class\n",
        "    def __init__(self):\n",
        "        Person.__init__(self) # call parent init\n",
        "        self.GPA = 4.0\n",
        "        self.studied_courses = ['Python', 'C++']\n",
        "    \n",
        "    def print_info(self):\n",
        "        print(self.name, self.GPA, self.is_valid_email()) # this attribute comming from my parent\n",
        "        "
      ]
    },
    {
      "cell_type": "code",
      "execution_count": null,
      "metadata": {
        "id": "9a55eb25",
        "outputId": "95a2e8b3-d8ae-4365-d381-d2b1f479bcc7",
        "colab": {
          "base_uri": "https://localhost:8080/"
        }
      },
      "outputs": [
        {
          "output_type": "stream",
          "name": "stdout",
          "text": [
            "Mohamed 4.0 True\n",
            "m@gmail.com\n",
            "['Python', 'C++']\n",
            "True\n",
            "ahmed a@gmail.com\n",
            "True\n"
          ]
        }
      ],
      "source": [
        "if __name__ == '__main__':\n",
        "    st = Student()\n",
        "    st.print_info()\n",
        "    print(st.email)\n",
        "    print(st.studied_courses)\n",
        "    print(st.is_valid_email())\n",
        "    \n",
        "    p = Person()\n",
        "    p.name, p.email = 'ahmed','a@gmail.com'\n",
        "    p.print_info()\n",
        "    print(p.is_valid_email())"
      ]
    },
    {
      "cell_type": "markdown",
      "metadata": {
        "id": "99cbf8e9"
      },
      "source": [
        "## Super Function"
      ]
    },
    {
      "cell_type": "markdown",
      "metadata": {
        "id": "5ba8e488"
      },
      "source": [
        "### super() returns an object of the superclass\n",
        "○ Now we can just force call to its __init__"
      ]
    },
    {
      "cell_type": "code",
      "execution_count": null,
      "metadata": {
        "id": "a7611020",
        "outputId": "1988b575-0e7b-41bb-b6ae-b5cdd75942e8",
        "colab": {
          "base_uri": "https://localhost:8080/"
        }
      },
      "outputs": [
        {
          "output_type": "stream",
          "name": "stdout",
          "text": [
            "name:Mohamed \n",
            "\n",
            "email:m@gmail.com \n",
            "\n",
            "GPA:4.0\n"
          ]
        }
      ],
      "source": [
        "class Person:\n",
        "    def __init__(self, name, email):\n",
        "        self.name = 'Mohamed'\n",
        "        self.email = 'm@gmail.com'\n",
        "\n",
        "    def print_info(self):\n",
        "        print(f'name:{self.name}', end=' ')\n",
        "        print('\\n')\n",
        "        print(f'email:{self.email}', end=' ')\n",
        "        print('\\n')\n",
        "        \n",
        "class Student(Person): #inheretance from Person class\n",
        "    def __init__(self, name, email, gpa):\n",
        "        super().__init__(name,email) # make it first line\n",
        "        self.gpa = gpa\n",
        "        \n",
        "    def print_info(self):\n",
        "        super().print_info() # Delegate to parent\n",
        "        print(f'GPA:{self.gpa}')\n",
        "\n",
        "if __name__ == '__main__':\n",
        "    st = Student('Mohamed','m@gmail.com',4.0)\n",
        "    st.print_info()"
      ]
    },
    {
      "cell_type": "markdown",
      "metadata": {
        "id": "1265f73b"
      },
      "source": [
        "## MultiLevel Inheritance"
      ]
    },
    {
      "cell_type": "code",
      "execution_count": null,
      "metadata": {
        "id": "9ede62f6"
      },
      "outputs": [],
      "source": [
        "class A:\n",
        "    def __init__(self):\n",
        "        print('init A',self)\n",
        "    def f1(self):\n",
        "        print('f1A')\n",
        "    def f2(self):\n",
        "        print('f2A')\n",
        "    def f3(self):\n",
        "        print('f3A')"
      ]
    },
    {
      "cell_type": "code",
      "execution_count": null,
      "metadata": {
        "id": "d27deadc"
      },
      "outputs": [],
      "source": [
        "class B(A):\n",
        "    def __init__(self):\n",
        "        super().__init__()\n",
        "        print('init B', self)\n",
        "    def f1(self):\n",
        "        print('f1B')\n",
        "    def f2(self):\n",
        "        print('f2B')"
      ]
    },
    {
      "cell_type": "code",
      "execution_count": null,
      "metadata": {
        "id": "125494ff"
      },
      "outputs": [],
      "source": [
        "class C(B):\n",
        "    def __init__(self):\n",
        "        super().__init__()\n",
        "        print('init C', self)\n",
        "    def f1(self):\n",
        "        print('f1C')"
      ]
    },
    {
      "cell_type": "code",
      "execution_count": null,
      "metadata": {
        "id": "5f656add",
        "outputId": "d69771a3-ab04-4385-86d8-26627e441678",
        "colab": {
          "base_uri": "https://localhost:8080/"
        }
      },
      "outputs": [
        {
          "output_type": "stream",
          "name": "stdout",
          "text": [
            "init A <__main__.C object at 0x7f643e4a6b50>\n",
            "init B <__main__.C object at 0x7f643e4a6b50>\n",
            "init C <__main__.C object at 0x7f643e4a6b50>\n",
            "f1C\n",
            "f2B\n",
            "f3A\n"
          ]
        }
      ],
      "source": [
        "cobj = C()\n",
        "cobj.f1()\n",
        "cobj.f2()\n",
        "cobj.f3()"
      ]
    },
    {
      "cell_type": "markdown",
      "metadata": {
        "id": "3cc21c1f"
      },
      "source": [
        "## Multilevel Inheritance and super()"
      ]
    },
    {
      "cell_type": "code",
      "execution_count": null,
      "metadata": {
        "id": "56cad09e"
      },
      "outputs": [],
      "source": [
        "class A:\n",
        "    def f1(self):\n",
        "        return 'f1A'\n",
        "    def f2(self):\n",
        "        return 'f2A'\n",
        "    def f3(self):\n",
        "        return 'f3A'"
      ]
    },
    {
      "cell_type": "code",
      "execution_count": null,
      "metadata": {
        "id": "e6b9623c"
      },
      "outputs": [],
      "source": [
        "class B(A):\n",
        "    def __init__(self):\n",
        "        super().__init__()\n",
        "    def f1(self):\n",
        "        return 'f1B '+ super().f1()\n",
        "    def f2(self):\n",
        "        return 'f2B '+ super().f2()"
      ]
    },
    {
      "cell_type": "code",
      "execution_count": null,
      "metadata": {
        "id": "a46ac243"
      },
      "outputs": [],
      "source": [
        "class C(B):\n",
        "    def __init__(self):\n",
        "        super().__init__()\n",
        "    def f1(self):\n",
        "        return 'f1C '+ super().f1()\n",
        "    def f2(self):\n",
        "        return 'f3C '+ super().f3()"
      ]
    },
    {
      "cell_type": "code",
      "execution_count": null,
      "metadata": {
        "id": "9689360e",
        "outputId": "0898027f-4ee3-41be-81af-c4fbd976d394",
        "colab": {
          "base_uri": "https://localhost:8080/"
        }
      },
      "outputs": [
        {
          "output_type": "stream",
          "name": "stdout",
          "text": [
            "f1C f1B f1A\n",
            "f3C f3A\n",
            "f3A\n"
          ]
        }
      ],
      "source": [
        "cobj = C()\n",
        "print(cobj.f1())\n",
        "print(cobj.f2())\n",
        "print(cobj.f3())"
      ]
    },
    {
      "cell_type": "markdown",
      "metadata": {
        "id": "713be375"
      },
      "source": [
        "## Polymerphism\n",
        "\n",
        "What is Polymorphism: The word polymorphism means having many forms. In programming, polymorphism means the same function name (but different signatures) being used for different types."
      ]
    },
    {
      "cell_type": "code",
      "execution_count": null,
      "metadata": {
        "id": "a9125e0f",
        "outputId": "eb0ef797-e404-4582-dd0d-a5017b7d5a3f",
        "colab": {
          "base_uri": "https://localhost:8080/"
        }
      },
      "outputs": [
        {
          "output_type": "stream",
          "name": "stdout",
          "text": [
            "9\n",
            "3\n",
            "2\n"
          ]
        }
      ],
      "source": [
        "print(len(\"Programiz\"))\n",
        "print(len([\"Python\", \"Java\", \"C\"]))\n",
        "print(len({\"Name\": \"John\", \"Address\": \"Nepal\"}))"
      ]
    },
    {
      "cell_type": "code",
      "execution_count": null,
      "metadata": {
        "id": "e583319e",
        "outputId": "2343e867-6267-4cbe-dc9e-07baa98c2bab",
        "colab": {
          "base_uri": "https://localhost:8080/"
        }
      },
      "outputs": [
        {
          "output_type": "stream",
          "name": "stdout",
          "text": [
            "3\n",
            "2\n",
            "6\n",
            "14\n",
            "ITI AI AI AI AI\n"
          ]
        }
      ],
      "source": [
        "print(len([1,2,3]))\n",
        "print(len(([6,7], 'ITI')))\n",
        "print(len('Python'))\n",
        "\n",
        "## + - operators can be used with several types\n",
        "# but behave differently!\n",
        "\n",
        "#  same operators are now doing other functionalities. \n",
        "print(2+3*4)\n",
        "print(\"ITI\"+\" AI\"*4)"
      ]
    },
    {
      "cell_type": "code",
      "execution_count": null,
      "metadata": {
        "id": "d6b0550d",
        "outputId": "1bc48641-6619-4ca7-f53e-4d967e8ce954"
      },
      "outputs": [
        {
          "name": "stdout",
          "output_type": "stream",
          "text": [
            "BMW\n",
            "Mohamed\n"
          ]
        }
      ],
      "source": [
        "class Car:\n",
        "    def get_name(self):\n",
        "        return \"BMW\"\n",
        "class Person:\n",
        "    def get_name(self):\n",
        "        return \"Mohamed\"\n",
        "class Home:\n",
        "    pass\n",
        "\n",
        "def process(obj):\n",
        "    print(obj.get_name())\n",
        "\n",
        "process(Car())\n",
        "process(Person())"
      ]
    },
    {
      "cell_type": "markdown",
      "metadata": {
        "id": "1ac0c530"
      },
      "source": [
        "### shape example"
      ]
    },
    {
      "cell_type": "code",
      "execution_count": null,
      "metadata": {
        "id": "3a1f3d93",
        "outputId": "c4937b1a-f988-4ead-c49b-59ffb2d52d1b"
      },
      "outputs": [
        {
          "name": "stdout",
          "output_type": "stream",
          "text": [
            "Rectangle_1 15\n",
            "Circle 12.566370614359172\n",
            "Rectangle_2 20\n",
            "area sum = 47.56637061435917\n"
          ]
        }
      ],
      "source": [
        "class Shape:\n",
        "    def __init__(self, name):\n",
        "        super().__init__()\n",
        "        self.name = name\n",
        "    \n",
        "    @property\n",
        "    def area(self):\n",
        "        raise NotImplementedError\n",
        "\n",
        "class Rectangle(Shape):\n",
        "    def __init__(self, name, wid, height):\n",
        "        super().__init__(name)\n",
        "        self.wid = wid\n",
        "        self.height = height\n",
        "    \n",
        "    @property\n",
        "    def area(self):\n",
        "        return self.wid * self.height\n",
        "    \n",
        "class Circle(Shape):\n",
        "    def __init__(self, name, radius):\n",
        "        super().__init__(name)\n",
        "        self.radius = radius\n",
        "        \n",
        "    @property\n",
        "    def area(self):\n",
        "        from math import pi\n",
        "        return 2*pi*self.radius\n",
        "\n",
        "class Editor:\n",
        "    def __init__(self):\n",
        "        self.shapes = []\n",
        "        \n",
        "    def process(self): #-> polymorphic function\n",
        "        area_sum = 0\n",
        "        for shape in self.shapes:\n",
        "            print(shape.name , shape.area)\n",
        "            area_sum += shape.area\n",
        "        return area_sum\n",
        "        \n",
        "if __name__ == '__main__':\n",
        "    edit = Editor()\n",
        "    edit.shapes.append(Rectangle('Rectangle_1',3,5))\n",
        "    edit.shapes.append(Circle('Circle',2))\n",
        "    edit.shapes.append(Rectangle('Rectangle_2',10,2))\n",
        "    print(f'area sum = {edit.process()}')\n"
      ]
    },
    {
      "cell_type": "markdown",
      "source": [
        "# Python Lab 5"
      ],
      "metadata": {
        "id": "VOzUJ45sFRE4"
      }
    },
    {
      "cell_type": "code",
      "source": [
        "class ITI:\n",
        "  def __init__(self, course, track):\n",
        "    self.course = course\n",
        "    self.track = track\n",
        "  \n",
        "  def __len__(self):\n",
        "    return len(self.course)\n",
        "  \n"
      ],
      "metadata": {
        "id": "sTXAstqEQ3A_"
      },
      "execution_count": null,
      "outputs": []
    },
    {
      "cell_type": "code",
      "source": [
        "if __name__ == \"__main__\":\n",
        "  iti = ITI([\"Java\", \"Python\", \"Java\"], \"Machine Learning\")\n",
        "\n",
        "  print(iti.course, iti.track)\n",
        "\n",
        "  print(len(iti))"
      ],
      "metadata": {
        "colab": {
          "base_uri": "https://localhost:8080/"
        },
        "id": "cI6imyVRRpcF",
        "outputId": "40ff246d-293f-4429-8d89-b6f645f67de2"
      },
      "execution_count": null,
      "outputs": [
        {
          "output_type": "stream",
          "name": "stdout",
          "text": [
            "['Java', 'Python', 'Java'] Machine Learning\n"
          ]
        }
      ]
    },
    {
      "cell_type": "code",
      "source": [
        "def underline(file_name):\n",
        "\n",
        "  file = open(file_name)\n",
        "\n",
        "  lines = file.readlines()\n",
        "\n",
        "  for line in lines:\n",
        "\n",
        "      words = line.split(' ')\n",
        "\n",
        "      for i in range(len(words)):\n",
        "\n",
        "          \n",
        "          if words[i].startswith(\".\"):\n",
        "              print(str(words[i].lstrip(\".\")))\n",
        "              for j in range(1, len(words[i].strip())):\n",
        "                  if j%2 ==0:\n",
        "                    print(\",\", end = \" \")\n",
        "                  else:\n",
        "                    print(\"-\", end = \" \")\n",
        "                      \n",
        "\n",
        "              print()\n",
        "\n",
        "              \n",
        "          else:\n",
        "              print(str(words[i]))\n"
      ],
      "metadata": {
        "id": "wNn8UbAiaG93"
      },
      "execution_count": null,
      "outputs": []
    },
    {
      "cell_type": "code",
      "source": [
        "underline(\"/content/text2.txt\")"
      ],
      "metadata": {
        "colab": {
          "base_uri": "https://localhost:8080/"
        },
        "id": "MCoCow4zfTwV",
        "outputId": "b410fea1-da42-4209-9a9b-23f650c76aee"
      },
      "execution_count": null,
      "outputs": [
        {
          "output_type": "stream",
          "name": "stdout",
          "text": [
            "Banana\n",
            "avocado\n",
            "- , - , - , - \n",
            "peach\n",
            "- , - , - \n",
            "PineApple-pumpkin\n",
            "pie.\n",
            "\n",
            "\n",
            "\n",
            "Nectarines\n",
            "\n",
            "- , - , - , - , - , \n",
            "GRAPES\n",
            "pomegranateS\n",
            "\n"
          ]
        }
      ]
    },
    {
      "cell_type": "code",
      "source": [
        "file_name = \"/content/steps.txt\""
      ],
      "metadata": {
        "id": "SNYyGspkkVwc"
      },
      "execution_count": null,
      "outputs": []
    },
    {
      "cell_type": "code",
      "source": [
        "def steps_avg(file_name):\n",
        "  file = open(file_name)\n",
        "  steps = file.readlines()\n",
        "  months = {\"January\":31, \"February\":28, \"March\":31, \"April\":30, \"May\":31, \"June\":30,\n",
        "      \"July\":31, \"August\":31, \"September\":30, \"October\":31, \"November\":30, \"December\":31}\n",
        "  steps_per_month = {}\n",
        "  day = 0\n",
        "  \n",
        "  for month, i in months.items():\n",
        "    sum_ = 0\n",
        "    for j in range(i):\n",
        "      sum_ += int(steps[j + day])\n",
        "    day += i\n",
        "    average = sum_ / i\n",
        "\n",
        "    steps_per_month[month] = average\n",
        "  return steps_per_month"
      ],
      "metadata": {
        "id": "qXDyBa9ehrTj"
      },
      "execution_count": null,
      "outputs": []
    },
    {
      "cell_type": "code",
      "source": [
        "steps_avg(file_name)"
      ],
      "metadata": {
        "colab": {
          "base_uri": "https://localhost:8080/"
        },
        "id": "RfcLl7UVkb4d",
        "outputId": "2923fa89-59ff-4cb5-f49b-9b539f06c461"
      },
      "execution_count": null,
      "outputs": [
        {
          "output_type": "execute_result",
          "data": {
            "text/plain": [
              "{'January': 5246.096774193548,\n",
              " 'February': 4851.857142857143,\n",
              " 'March': 5777.612903225807,\n",
              " 'April': 5802.133333333333,\n",
              " 'May': 4711.548387096775,\n",
              " 'June': 4792.333333333333,\n",
              " 'July': 5638.225806451613,\n",
              " 'August': 5759.645161290323,\n",
              " 'September': 6114.566666666667,\n",
              " 'October': 5411.032258064516,\n",
              " 'November': 4268.8,\n",
              " 'December': 5138.064516129032}"
            ]
          },
          "metadata": {},
          "execution_count": 89
        }
      ]
    },
    {
      "cell_type": "markdown",
      "source": [
        "A painting company has determined that for every 112 square feet of wall space, one gallon of paint and eight hours of labor will be required. The company charges $35.00 per hour for labor. \n",
        "Write a program that asks the user to enter the square feet of wall space to be painted and the price of the paint per gallon. The program should display the following data: \n",
        "•\tThe number of gallons of paint required \n",
        "•\tThe hours of labor required \n",
        "•\tThe cost of the paint \n",
        "•\tThe labor charges \n",
        "•\tThe total cost of the paint job \n"
      ],
      "metadata": {
        "id": "R-t-u689rECR"
      }
    },
    {
      "cell_type": "code",
      "source": [
        "from math import ceil\n",
        "class painting:\n",
        "  def __init__(self, sqft, price_per_gallon):\n",
        "    self.sqft = sqft\n",
        "    self.price_per_gallon = price_per_gallon\n",
        "\n",
        "  def number_of_gallons(self):\n",
        "    return ceil(self.sqft / 112)\n",
        "\n",
        "  def time_per_sqft(self):\n",
        "    sqft_per_hour = 112 / 8\n",
        "    return sqft_per_hour\n",
        "  \n",
        "  def Hours_of_labor(self):\n",
        "    return self.sqft / self.time_per_sqft() \n",
        "  \n",
        "  def cost_of_paint(self):\n",
        "    number_of_gallons = self.number_of_gallons()\n",
        "    return self.price_per_gallon * number_of_gallons\n",
        "\n",
        "  def  labor_charges(self):\n",
        "    time_per_sqft = self.time_per_sqft()\n",
        "    return self.Hours_of_labor() * 35\n",
        "\n",
        "  def total_cost(self):\n",
        "    return self.labor_charges() + self.cost_of_paint()\n"
      ],
      "metadata": {
        "id": "6Fe4a1EKrNhk"
      },
      "execution_count": null,
      "outputs": []
    },
    {
      "cell_type": "code",
      "source": [
        "def Company():\n",
        "  sqft = int(input(\"Enter the square feet of wall space to be painted: \"))\n",
        "  price_per_gallon = int(input(\"Enter the price of the paint per gallon: \"))\n",
        "  p = painting(sqft, price_per_gallon)\n",
        "  print(f\"The number of gallons of paint required {p.number_of_gallons()}\")\n",
        "  print(f\"The hours of labor required {p.Hours_of_labor()}\")\n",
        "  print(f\"The cost of the paint {p.cost_of_paint()}\")\n",
        "  print(f\"The labor charges {p.labor_charges()}\")\n",
        "  print(f\"The total cost of the paint job {p.total_cost()}\")\n"
      ],
      "metadata": {
        "id": "lOizsNqVr73h"
      },
      "execution_count": null,
      "outputs": []
    },
    {
      "cell_type": "code",
      "source": [
        "Company()"
      ],
      "metadata": {
        "colab": {
          "base_uri": "https://localhost:8080/"
        },
        "id": "Kfz4wVjIyGnU",
        "outputId": "3c6fc8dd-a856-474f-cce4-3692a5f6c0b4"
      },
      "execution_count": null,
      "outputs": [
        {
          "output_type": "stream",
          "name": "stdout",
          "text": [
            "Enter the square feet of wall space to be painted: 224\n",
            "Enter the price of the paint per gallon: 10\n",
            "The number of gallons of paint required 2\n",
            "The hours of labor required 16.0\n",
            "The cost of the paint 20\n",
            "The labor charges 560.0\n",
            "The total cost of the paint job 580.0\n"
          ]
        }
      ]
    },
    {
      "cell_type": "markdown",
      "source": [
        "Question 4\n",
        "●\tWrite a code that generate 200 random numbers between -510 and 275 then adds those numbers to a text file. Repeat that step 4 time (you end up with a file that have 4 lines each has 200 numbers separated by spaces)\n",
        "●\tRead the data from the file line by line. Each integer value must be: -500 <= value <= 270\n",
        "●\tIf a value was entered outside that range raise an exception, print error message to the output then continue processing the rest of the numbers.\n",
        "●\tFind the value that repeated the most number of times in each line.\n",
        "○\tIf there are many solutions: find the smallest value.\n",
        "●\tFind the maximum number in all lines\n",
        "●\tFind the minimum number in all lines\n"
      ],
      "metadata": {
        "id": "rnIfi7yk1XQo"
      }
    },
    {
      "cell_type": "code",
      "source": [
        "import random\n",
        "lst = []\n",
        "for j in range(4):\n",
        "  for i in range(200):\n",
        "    num = random.randint(-510, 275)\n",
        "    lst.append(str(num))\n",
        "  file1 = open(\"numbers.txt\", \"a\")\n",
        "  file1.write(\" \".join(lst))\n",
        "  file1.write(\"\\n\")\n",
        "  file1.close()"
      ],
      "metadata": {
        "id": "i-K7LJT8yIcd"
      },
      "execution_count": null,
      "outputs": []
    },
    {
      "cell_type": "code",
      "source": [
        "file1 = open(\"numbers.txt\")\n",
        "lines = file1.readlines()\n",
        "for line in lines:\n",
        "  for num in line.split():\n",
        "    num = int(num)\n",
        "    if num < -500 or num > 270:\n",
        "      print(f\"Number out of ranges : {num}\")"
      ],
      "metadata": {
        "id": "_1R9Q-GX2KpI"
      },
      "execution_count": null,
      "outputs": []
    },
    {
      "cell_type": "markdown",
      "source": [
        "# Python lab 6"
      ],
      "metadata": {
        "id": "X88k4S-bFarN"
      }
    },
    {
      "cell_type": "markdown",
      "source": [
        "## 1- Given are 2 similar dimensional numpy arrays, how to get a numpy array output in which every element is an element-wise sum of the 2 numpy arrays?\n"
      ],
      "metadata": {
        "id": "nvKcw9RUGoIO"
      }
    },
    {
      "cell_type": "code",
      "source": [
        "import numpy as np"
      ],
      "metadata": {
        "id": "90J0YwtI3FP-"
      },
      "execution_count": null,
      "outputs": []
    },
    {
      "cell_type": "code",
      "source": [
        "array1 = np.array([[1,2,3,4], [5,6,7,8]])\n",
        "array2 = np.array([[1,2,3,4], [5,6,7,8]])"
      ],
      "metadata": {
        "id": "u59H8XbJFjpD"
      },
      "execution_count": null,
      "outputs": []
    },
    {
      "cell_type": "code",
      "source": [
        "array_sum = array1 + array2"
      ],
      "metadata": {
        "id": "_CT2UGb3F7Qt"
      },
      "execution_count": null,
      "outputs": []
    },
    {
      "cell_type": "code",
      "source": [
        "array_sum"
      ],
      "metadata": {
        "colab": {
          "base_uri": "https://localhost:8080/"
        },
        "id": "f2uvFkEgGBla",
        "outputId": "c12f27f9-121c-46ef-b824-957442f9f39c"
      },
      "execution_count": null,
      "outputs": [
        {
          "output_type": "execute_result",
          "data": {
            "text/plain": [
              "array([[ 2,  4,  6,  8],\n",
              "       [10, 12, 14, 16]])"
            ]
          },
          "metadata": {},
          "execution_count": 10
        }
      ]
    },
    {
      "cell_type": "markdown",
      "source": [
        "## 2- Given a numpy array (matrix), how to get a numpy array output which is equal to the original matrix multiplied by a scalar?"
      ],
      "metadata": {
        "id": "xIOwEUZ5Gsm3"
      }
    },
    {
      "cell_type": "code",
      "source": [
        "array_mult = 3 * array1"
      ],
      "metadata": {
        "id": "jmBRO-umGX0I"
      },
      "execution_count": null,
      "outputs": []
    },
    {
      "cell_type": "code",
      "source": [
        "array_mult"
      ],
      "metadata": {
        "colab": {
          "base_uri": "https://localhost:8080/"
        },
        "id": "TgV6-8xTG479",
        "outputId": "0df285f8-20ca-40ec-a3c0-622d5bea0e0e"
      },
      "execution_count": null,
      "outputs": [
        {
          "output_type": "execute_result",
          "data": {
            "text/plain": [
              "array([[ 3,  6,  9, 12],\n",
              "       [15, 18, 21, 24]])"
            ]
          },
          "metadata": {},
          "execution_count": 12
        }
      ]
    },
    {
      "cell_type": "markdown",
      "source": [
        "## 3- Obtaining Boolean Array from Binary Array Convert a binary numpy array (containing only 0s and 1s) to a boolean numpy array"
      ],
      "metadata": {
        "id": "bGSIKCIbG9uy"
      }
    },
    {
      "cell_type": "code",
      "source": [
        "array1"
      ],
      "metadata": {
        "colab": {
          "base_uri": "https://localhost:8080/"
        },
        "id": "VuCHuc74KyYg",
        "outputId": "7fffd4d2-e6b7-4adf-ec0e-269dd7f4c006"
      },
      "execution_count": null,
      "outputs": [
        {
          "output_type": "execute_result",
          "data": {
            "text/plain": [
              "array([[1, 2, 3, 4],\n",
              "       [5, 6, 7, 8]])"
            ]
          },
          "metadata": {},
          "execution_count": 31
        }
      ]
    },
    {
      "cell_type": "code",
      "source": [
        "array_3 = np.where(array1 > 3, 1, 0)"
      ],
      "metadata": {
        "id": "gNEtr_qjG56c"
      },
      "execution_count": null,
      "outputs": []
    },
    {
      "cell_type": "code",
      "source": [
        "array_3"
      ],
      "metadata": {
        "colab": {
          "base_uri": "https://localhost:8080/"
        },
        "id": "cLdOl99PHQ1c",
        "outputId": "c75d558f-5987-43da-f9f3-8d7048241871"
      },
      "execution_count": null,
      "outputs": [
        {
          "output_type": "execute_result",
          "data": {
            "text/plain": [
              "array([[0, 0, 0, 1],\n",
              "       [1, 1, 1, 1]])"
            ]
          },
          "metadata": {},
          "execution_count": 30
        }
      ]
    },
    {
      "cell_type": "code",
      "source": [
        "np.bool_(array_3)"
      ],
      "metadata": {
        "colab": {
          "base_uri": "https://localhost:8080/"
        },
        "id": "X2wgwpnoHU-V",
        "outputId": "2acdc851-136d-4f7f-8448-242b7097b40d"
      },
      "execution_count": null,
      "outputs": [
        {
          "output_type": "execute_result",
          "data": {
            "text/plain": [
              "array([[False, False, False,  True],\n",
              "       [ True,  True,  True,  True]])"
            ]
          },
          "metadata": {},
          "execution_count": 21
        }
      ]
    },
    {
      "cell_type": "markdown",
      "source": [
        "## 4- Horizontal Stacking of Numpy Arrays Stack 2 numpy arrays horizontally 2 arrays having the same 1st dimension (number of rows in 2D arrays)\n"
      ],
      "metadata": {
        "id": "y_ri_TQsHsxv"
      }
    },
    {
      "cell_type": "code",
      "source": [
        "a1 = np.array([[1,2,3], \n",
        "               [4,5,6]])\n",
        "\n",
        "a2 = np.array([[7 , 8 ,9], \n",
        "               [10,11,12]])\n",
        "hs = np.hstack((a1,a2))"
      ],
      "metadata": {
        "id": "PdFYdRDsHiuP"
      },
      "execution_count": null,
      "outputs": []
    },
    {
      "cell_type": "code",
      "source": [
        "hs"
      ],
      "metadata": {
        "colab": {
          "base_uri": "https://localhost:8080/"
        },
        "id": "ibfpK85YJaqE",
        "outputId": "08a5c34b-576c-440c-e6a3-2aa12ae1c174"
      },
      "execution_count": null,
      "outputs": [
        {
          "output_type": "execute_result",
          "data": {
            "text/plain": [
              "array([[ 1,  2,  3,  7,  8,  9],\n",
              "       [ 4,  5,  6, 10, 11, 12]])"
            ]
          },
          "metadata": {},
          "execution_count": 23
        }
      ]
    },
    {
      "cell_type": "markdown",
      "source": [
        "## 5- Vertically Stacking of Numpy Arrays Stack 2 numpy arrays vertically 2 arrays having the same last dimension (number of columns in 2D arrays)"
      ],
      "metadata": {
        "id": "zkSJLpn_JrIv"
      }
    },
    {
      "cell_type": "code",
      "source": [
        "vs = np.vstack((a1, a2))"
      ],
      "metadata": {
        "id": "ng4V1Iy4JbaR"
      },
      "execution_count": null,
      "outputs": []
    },
    {
      "cell_type": "code",
      "source": [
        "vs"
      ],
      "metadata": {
        "colab": {
          "base_uri": "https://localhost:8080/"
        },
        "id": "CClPnmMOJzSe",
        "outputId": "469eaf6f-ab7e-48dd-c074-3e93746bd855"
      },
      "execution_count": null,
      "outputs": [
        {
          "output_type": "execute_result",
          "data": {
            "text/plain": [
              "array([[ 1,  2,  3],\n",
              "       [ 4,  5,  6],\n",
              "       [ 7,  8,  9],\n",
              "       [10, 11, 12]])"
            ]
          },
          "metadata": {},
          "execution_count": 26
        }
      ]
    },
    {
      "cell_type": "markdown",
      "source": [
        "## 6- Getting the positions (indexes) where elements of 2 numpy arrays match From 2 numpy arrays, extract the indexes in which the elements in the 2 arrays match"
      ],
      "metadata": {
        "id": "aHFPmsqNKDIW"
      }
    },
    {
      "cell_type": "code",
      "source": [
        "a1 = np.array([[1, 2, 3], \n",
        "               [4, 5, 6]])\n",
        "\n",
        "a2 = np.array([[7, 0, 3], \n",
        "               [9, 5, 8]])"
      ],
      "metadata": {
        "id": "FUi0t5J_J72b"
      },
      "execution_count": null,
      "outputs": []
    },
    {
      "cell_type": "code",
      "source": [
        "np.where(a1 == a2)"
      ],
      "metadata": {
        "colab": {
          "base_uri": "https://localhost:8080/"
        },
        "id": "JWbMXZQmL_PP",
        "outputId": "ac18e48e-c0c6-4223-cf3f-259191769758"
      },
      "execution_count": null,
      "outputs": [
        {
          "output_type": "execute_result",
          "data": {
            "text/plain": [
              "(array([0, 1]), array([2, 1]))"
            ]
          },
          "metadata": {},
          "execution_count": 42
        }
      ]
    },
    {
      "cell_type": "markdown",
      "source": [
        "## 7- Matrix Transpose -> Output the transpose of a matrix (as numpy array)"
      ],
      "metadata": {
        "id": "jbd_c26ANgK8"
      }
    },
    {
      "cell_type": "code",
      "source": [
        "a1_transpose = np.transpose(a1)\n",
        "a1_transpose"
      ],
      "metadata": {
        "colab": {
          "base_uri": "https://localhost:8080/"
        },
        "id": "WCziaNopMdVO",
        "outputId": "bd7c98f8-9e1e-41e3-877a-8b57c608ba3a"
      },
      "execution_count": null,
      "outputs": [
        {
          "output_type": "execute_result",
          "data": {
            "text/plain": [
              "array([[1, 4],\n",
              "       [2, 5],\n",
              "       [3, 6]])"
            ]
          },
          "metadata": {},
          "execution_count": 36
        }
      ]
    },
    {
      "cell_type": "markdown",
      "source": [
        "# Python Lab 7"
      ],
      "metadata": {
        "id": "yMrIW_uaI6Mp"
      }
    },
    {
      "cell_type": "markdown",
      "source": [
        "## numpy.logaddexp()\n",
        "\n",
        "The numpy.logaddexp() function in Python is simply used to return the logarithm of the sum of exponentiations of x1 and x2 inputs passed to it.\n",
        "\n",
        "    Mathematically, it’s represented as follows:\n",
        "    numpy.logaddexp(x1, x2) = logarithm(exp(x1) + exp(x2))"
      ],
      "metadata": {
        "id": "89cdClJQI_h0"
      }
    },
    {
      "cell_type": "markdown",
      "source": [
        "    Application\n",
        "    The logaddexp() function is useful in statistics, especially when the probability of an event is so small that it exceeds the range of normal\n",
        "    floating point numbers. In such cases, the logarithm of the calculated probability is stored. The function allows for storing of added probabilities\n",
        "    in such a fashion."
      ],
      "metadata": {
        "id": "AuMvirOKNqND"
      }
    },
    {
      "cell_type": "code",
      "source": [
        "import numpy as np"
      ],
      "metadata": {
        "id": "iFxxpkeeJyhJ"
      },
      "execution_count": null,
      "outputs": []
    },
    {
      "cell_type": "code",
      "source": [
        "# Python3 code demonstrate logaddexp() function\n",
        "\n",
        "in_num1 = 2\n",
        "in_num2 = 3\n",
        "print (\"Input number1 : \", in_num1)\n",
        "print (\"Input number2 : \", in_num2)"
      ],
      "metadata": {
        "colab": {
          "base_uri": "https://localhost:8080/"
        },
        "id": "OYn_YqctI9RH",
        "outputId": "6c48b1c4-29d2-4efc-ebb5-054013b11172"
      },
      "execution_count": null,
      "outputs": [
        {
          "output_type": "stream",
          "name": "stdout",
          "text": [
            "Input number1 :  2\n",
            "Input number2 :  3\n"
          ]
        }
      ]
    },
    {
      "cell_type": "code",
      "source": [
        "exp1 = np.exp(in_num1)\n",
        "exp2 = np.exp(in_num2)\n",
        "print (\"exp number1 : \",  exp1)\n",
        "print (\"exp number2 : \", exp2)"
      ],
      "metadata": {
        "colab": {
          "base_uri": "https://localhost:8080/"
        },
        "id": "3dBtljjaMDV9",
        "outputId": "aad1faf7-2aa6-45c4-8c27-d5241a604058"
      },
      "execution_count": null,
      "outputs": [
        {
          "output_type": "stream",
          "name": "stdout",
          "text": [
            "exp number1 :  7.38905609893065\n",
            "exp number2 :  20.085536923187668\n"
          ]
        }
      ]
    },
    {
      "cell_type": "code",
      "source": [
        "exp_sum = exp1 + exp2\n",
        "print (\"log add : \", np.log(exp_sum) )"
      ],
      "metadata": {
        "colab": {
          "base_uri": "https://localhost:8080/"
        },
        "id": "C_3koClAMG2D",
        "outputId": "abe78415-8d40-4af3-8423-29fed315f235"
      },
      "execution_count": null,
      "outputs": [
        {
          "output_type": "stream",
          "name": "stdout",
          "text": [
            "log add :  3.313261687518223\n"
          ]
        }
      ]
    },
    {
      "cell_type": "code",
      "source": [
        "out_num = np.logaddexp(in_num1, in_num2)\n",
        "print (\"Output number : \", out_num)"
      ],
      "metadata": {
        "colab": {
          "base_uri": "https://localhost:8080/"
        },
        "id": "7pC2plCtMMpd",
        "outputId": "efbef997-af31-44ec-bdf6-4046f454e995"
      },
      "execution_count": null,
      "outputs": [
        {
          "output_type": "stream",
          "name": "stdout",
          "text": [
            "Output number :  3.313261687518223\n"
          ]
        }
      ]
    },
    {
      "cell_type": "code",
      "source": [
        "in_arr1 = [2, 3, 8] \n",
        "in_arr2 = [1, 2, 3]\n",
        "print (\"Input array1 : \", in_arr1) \n",
        "print (\"Input array2 : \", in_arr2)\n",
        "    \n",
        "out_arr = np.logaddexp(in_arr1, in_arr2) \n",
        "print (\"Output array : \", out_arr) "
      ],
      "metadata": {
        "colab": {
          "base_uri": "https://localhost:8080/"
        },
        "id": "OFsNtcVgJk9V",
        "outputId": "f4f35c3f-39fb-41c2-d85e-c40390c842aa"
      },
      "execution_count": null,
      "outputs": [
        {
          "output_type": "stream",
          "name": "stdout",
          "text": [
            "Input array1 :  [2, 3, 8]\n",
            "Input array2 :  [1, 2, 3]\n",
            "Output array :  [2.31326169 3.31326169 8.00671535]\n"
          ]
        }
      ]
    },
    {
      "cell_type": "markdown",
      "source": [
        "## FFT (Fast Fourier Transform) refers to a way the discrete Fourier Transform (DFT) can be calculated efficiently, by using symmetries in the calculated terms."
      ],
      "metadata": {
        "id": "gN7vw0JCRWOW"
      }
    },
    {
      "cell_type": "code",
      "source": [
        "import matplotlib.pyplot as plt\n",
        "# sampling rate\n",
        "sr = 2000\n",
        "# sampling interval\n",
        "ts = 1.0/sr\n",
        "t = np.arange(0,1,ts)\n",
        "\n",
        "freq = 1.\n",
        "x = 3*np.sin(2*np.pi*freq*t)\n",
        "\n",
        "freq = 4\n",
        "x += np.sin(2*np.pi*freq*t)\n",
        "\n",
        "freq = 7   \n",
        "x += 0.5* np.sin(2*np.pi*freq*t)\n",
        "\n",
        "plt.figure(figsize = (8, 6))\n",
        "plt.plot(t, x, 'r')\n",
        "plt.ylabel('Amplitude')\n",
        "\n",
        "plt.show()"
      ],
      "metadata": {
        "colab": {
          "base_uri": "https://localhost:8080/",
          "height": 374
        },
        "id": "WIlvAs9ePwJR",
        "outputId": "39e15501-a1c4-44b3-ed78-460ca82e6ac7"
      },
      "execution_count": null,
      "outputs": [
        {
          "output_type": "display_data",
          "data": {
            "text/plain": [
              "<Figure size 576x432 with 1 Axes>"
            ],
            "image/png": "[encoded data removed]"
          },
          "metadata": {
            "needs_background": "light"
          }
        }
      ]
    },
    {
      "cell_type": "code",
      "source": [
        "f\n",
        "\n",
        "X = fft(x)\n",
        "N = len(X)\n",
        "n = np.arange(N)\n",
        "T = N/sr\n",
        "freq = n/T rom numpy.fft import fft, ifft\n",
        "\n",
        "plt.figure(figsize = (12, 6))\n",
        "plt.subplot(121)\n",
        "\n",
        "plt.stem(freq, np.abs(X), 'b', \\\n",
        "         markerfmt=\" \", basefmt=\"-b\")\n",
        "plt.xlabel('Freq (Hz)')\n",
        "plt.ylabel('FFT Amplitude |X(freq)|')\n",
        "plt.xlim(0, 10)\n",
        "\n",
        "plt.subplot(122)\n",
        "plt.plot(t, ifft(X), 'r')\n",
        "plt.xlabel('Time (s)')\n",
        "plt.ylabel('Amplitude')\n",
        "plt.tight_layout()\n",
        "plt.show()"
      ],
      "metadata": {
        "colab": {
          "base_uri": "https://localhost:8080/",
          "height": 530
        },
        "id": "G9R07_g8QPm1",
        "outputId": "11c8dc73-8a2b-474f-fbac-f1e6c57ce989"
      },
      "execution_count": null,
      "outputs": [
        {
          "output_type": "stream",
          "name": "stderr",
          "text": [
            "<ipython-input-15-7076f7868f46>:12: UserWarning: In Matplotlib 3.3 individual lines on a stem plot will be added as a LineCollection instead of individual lines. This significantly improves the performance of a stem plot. To remove this warning and switch to the new behaviour, set the \"use_line_collection\" keyword argument to True.\n",
            "  plt.stem(freq, np.abs(X), 'b', \\\n",
            "/usr/local/lib/python3.8/dist-packages/matplotlib/cbook/__init__.py:1317: ComplexWarning: Casting complex values to real discards the imaginary part\n",
            "  return np.asarray(x, float)\n"
          ]
        },
        {
          "output_type": "display_data",
          "data": {
            "text/plain": [
              "<Figure size 864x432 with 2 Axes>"
            ],
            "image/png": "[encoded data removed]"
          },
          "metadata": {
            "needs_background": "light"
          }
        }
      ]
    },
    {
      "cell_type": "code",
      "source": [],
      "metadata": {
        "id": "T3KfBVYxQu00"
      },
      "execution_count": null,
      "outputs": []
    },
    {
      "cell_type": "markdown",
      "source": [
        "# Pyhton Lab 8"
      ],
      "metadata": {
        "id": "zXZEaVqw-Zkh"
      }
    },
    {
      "cell_type": "markdown",
      "source": [
        "## 1- Create random number to a simple plot using plt.plot()"
      ],
      "metadata": {
        "id": "5MXxpQze__Uc"
      }
    },
    {
      "cell_type": "code",
      "source": [
        "import numpy as np\n",
        "%matplotlib inline\n",
        "import matplotlib.pyplot as plt\n"
      ],
      "metadata": {
        "id": "ddzxnx3OAy0I"
      },
      "execution_count": null,
      "outputs": []
    },
    {
      "cell_type": "code",
      "source": [
        "x = np.linspace(0,10,30)"
      ],
      "metadata": {
        "id": "vggvUTpu-bpd"
      },
      "execution_count": null,
      "outputs": []
    },
    {
      "cell_type": "code",
      "source": [
        "plt.figure(figsize= (10,6))\n",
        "plt.style.use('fivethirtyeight')\n",
        "plt.plot(x, np.sin(x), color = 'blue', marker = 'o', markersize = 10, markerfacecolor = 'white')\n",
        "plt.plot(x, np.cos(x), color = 'red', marker = '*', markersize = 10, markerfacecolor = 'white')\n",
        "plt.xlabel(\"x\")\n",
        "plt.ylabel(\"Amplitude\")\n",
        "plt.title(\"sin vs cos\")\n",
        "plt.legend([\"sin\", \"cos\"])\n",
        "plt.ylim(-1.2, 1.2)\n",
        "plt.show()"
      ],
      "metadata": {
        "colab": {
          "base_uri": "https://localhost:8080/",
          "height": 441
        },
        "id": "nX63wykDAuoq",
        "outputId": "213b9b0c-2ee1-43f3-e09e-45e5f75728b3"
      },
      "execution_count": null,
      "outputs": [
        {
          "output_type": "display_data",
          "data": {
            "text/plain": [
              "<Figure size 720x432 with 1 Axes>"
            ],
            "image/png": "[encoded data removed]"
          },
          "metadata": {}
        }
      ]
    },
    {
      "cell_type": "markdown",
      "source": [
        "## 2- Create two lists, one called X, one called y, each with 5 numbers in them then plot it using scatter\n"
      ],
      "metadata": {
        "id": "dCzcmtvPFaNs"
      }
    },
    {
      "cell_type": "code",
      "source": [
        "x = np.linspace(0,10,5)\n",
        "y= x**2\n",
        "plt.style.use(\"seaborn\")\n",
        "plt.scatter(x, y, color = 'red', marker = 'p')"
      ],
      "metadata": {
        "colab": {
          "base_uri": "https://localhost:8080/",
          "height": 386
        },
        "id": "KKakdSyMCJLh",
        "outputId": "43a9bb7f-c383-4d54-c6de-1446538cbf96"
      },
      "execution_count": null,
      "outputs": [
        {
          "output_type": "execute_result",
          "data": {
            "text/plain": [
              "<matplotlib.collections.PathCollection at 0x7f1e95bd89d0>"
            ]
          },
          "metadata": {},
          "execution_count": 55
        },
        {
          "output_type": "display_data",
          "data": {
            "text/plain": [
              "<Figure size 576x396 with 1 Axes>"
            ],
            "image/png": "[encoded data removed]"
          },
          "metadata": {}
        }
      ]
    },
    {
      "cell_type": "markdown",
      "source": [
        "## 3- Create 4 subplots using plt.subplots() "
      ],
      "metadata": {
        "id": "Ri1yAB6PG_KD"
      }
    },
    {
      "cell_type": "code",
      "source": [
        "plt.figure(figsize= (15, 8))\n",
        "\n",
        "plt.style.use('fivethirtyeight')\n",
        "plt.subplots_adjust(hspace = .5 , wspace = .5)\n",
        "x = np.linspace(0,10,30)\n",
        "y = [np.sin(x), np.cos(x), np.tan(x), np.sinh(x)]\n",
        "titles = ['sin x', 'cos x', 'tan x', 'sinh x']\n",
        "mark = ['*', 'p', 'x', 'o']\n",
        "for i in range(1,5):\n",
        "    plt.subplot(2,2,i)\n",
        "    plt.plot(x, y[i-1], marker = mark[i-1], markersize = 5, markerfacecolor = 'white', color  = \"red\")\n",
        "    plt.title(titles[i - 1])\n",
        "    plt.legend()"
      ],
      "metadata": {
        "colab": {
          "base_uri": "https://localhost:8080/",
          "height": 604
        },
        "id": "aOul6qabFuR_",
        "outputId": "08d5954e-80e2-4b0d-8a95-22ebdaa4b3a8"
      },
      "execution_count": null,
      "outputs": [
        {
          "output_type": "stream",
          "name": "stderr",
          "text": [
            "WARNING:matplotlib.legend:No handles with labels found to put in legend.\n",
            "WARNING:matplotlib.legend:No handles with labels found to put in legend.\n",
            "WARNING:matplotlib.legend:No handles with labels found to put in legend.\n",
            "WARNING:matplotlib.legend:No handles with labels found to put in legend.\n"
          ]
        },
        {
          "output_type": "display_data",
          "data": {
            "text/plain": [
              "<Figure size 1080x576 with 4 Axes>"
            ],
            "image/png": "[encoded data removed]"
          },
          "metadata": {}
        }
      ]
    },
    {
      "cell_type": "markdown",
      "source": [
        "## 4- Create a scatter plot of X versus the exponential of X (np.exp(X))"
      ],
      "metadata": {
        "id": "ENFV7HrZJxJb"
      }
    },
    {
      "cell_type": "code",
      "source": [
        "x = np.linspace(0,10,30)\n",
        "y= np.exp(x)\n",
        "plt.style.use(\"fivethirtyeight\")\n",
        "plt.scatter(x, y, color = 'red', marker = 'o')\n",
        "plt.xlabel(\"X\")\n",
        "plt.ylabel(\"exp(X)\")\n",
        "plt.title(\"X versus the exponential of X (np.exp(X)\")\n",
        "plt.show()"
      ],
      "metadata": {
        "colab": {
          "base_uri": "https://localhost:8080/",
          "height": 409
        },
        "id": "_VchBpGZIuQc",
        "outputId": "f1f52a09-43a2-4f74-d4a5-51f72b6c5a31"
      },
      "execution_count": null,
      "outputs": [
        {
          "output_type": "display_data",
          "data": {
            "text/plain": [
              "<Figure size 576x396 with 1 Axes>"
            ],
            "image/png": "[encoded data removed]"
          },
          "metadata": {}
        }
      ]
    },
    {
      "cell_type": "markdown",
      "source": [
        "## 5- Plot a histogram of 1000 random normally distributed numbers on the bottom right subplot\n"
      ],
      "metadata": {
        "id": "PR-JTsqwKj7U"
      }
    },
    {
      "cell_type": "code",
      "source": [
        "np.random.seed(0)\n",
        "x = np.random.randn(1000)\n",
        "plt.figure(figsize= (10, 6))\n",
        "\n",
        "plt.style.use(\"dark_background\")\n",
        "plt.subplots_adjust(hspace = .5 , wspace = .5)\n",
        "\n",
        "for i in range(1,4):\n",
        "    plt.subplot(2,2,i)\n",
        "\n",
        "plt.subplot(2,2,4)\n",
        "plt.hist(x, bins =200, alpha=0.8, color = 'steelblue')\n",
        "plt.title(\"histogram of 1000 random normally\")\n",
        "plt.show()\n"
      ],
      "metadata": {
        "colab": {
          "base_uri": "https://localhost:8080/",
          "height": 402
        },
        "id": "K9eO4JWwJ8JF",
        "outputId": "9f1f42ce-11d1-418c-d1c7-efff8796b5e6"
      },
      "execution_count": null,
      "outputs": [
        {
          "output_type": "display_data",
          "data": {
            "text/plain": [
              "<Figure size 720x432 with 4 Axes>"
            ],
            "image/png": "[encoded data removed]"
          },
          "metadata": {}
        }
      ]
    },
    {
      "cell_type": "code",
      "source": [],
      "metadata": {
        "id": "aCws17YiKy6P"
      },
      "execution_count": null,
      "outputs": []
    }
  ]
}